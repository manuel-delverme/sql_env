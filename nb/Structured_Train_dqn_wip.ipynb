{
 "cells": [
  {
   "cell_type": "code",
   "execution_count": null,
   "id": "e125ce24",
   "metadata": {},
   "outputs": [],
   "source": [
    "import numpy as np\n",
    "import matplotlib.pyplot as plt\n",
    "from scipy.signal import savgol_filter as SGfilter\n",
    "from IPython.display import clear_output, display\n",
    "import datetime\n",
    "import joblib\n",
    "from tqdm import tqdm\n",
    "import sys\n",
    "sys.path.append(\"../\")\n",
    "import environment\n",
    "\n",
    "import gym\n",
    "import ctfsql\n",
    "from stable_baselines3.common.vec_env import DummyVecEnv\n",
    "from stable_baselines3 import DQN\n",
    "from stable_baselines3 import PPO"
   ]
  },
  {
   "cell_type": "code",
   "execution_count": null,
   "id": "ef232b59",
   "metadata": {},
   "outputs": [],
   "source": [
    "n_simulations = 10\n",
    "n_episodes_training = 10**6\n",
    "n_episodes_test = 10**2"
   ]
  },
  {
   "cell_type": "code",
   "execution_count": null,
   "id": "99cd860c",
   "metadata": {},
   "outputs": [],
   "source": [
    "env = gym.make('SQLstruct-v1')"
   ]
  },
  {
   "cell_type": "code",
   "execution_count": null,
   "id": "14c4bb09",
   "metadata": {},
   "outputs": [],
   "source": [
    "dqn_model = DQN('MlpPolicy', env, verbose=1, batch_size = 64) "
   ]
  },
  {
   "cell_type": "code",
   "execution_count": null,
   "id": "2e3bb11f",
   "metadata": {},
   "outputs": [],
   "source": [
    "dqn_model.learn(total_timesteps=10**5)\n",
    "dqn_model.save('ignore_simulb64_')"
   ]
  },
  {
   "cell_type": "code",
   "execution_count": null,
   "id": "9b855bb7",
   "metadata": {},
   "outputs": [],
   "source": [
    "import evaluate_models as ev\n",
    "\n",
    "rewards, num_steps = ev.test_episodes(dqn_model, env, num_episodes=1000, max_steps = 100)\n",
    "len(rewards), len(num_steps)"
   ]
  },
  {
   "cell_type": "code",
   "execution_count": null,
   "id": "9aeeb83f",
   "metadata": {},
   "outputs": [],
   "source": [
    "plt.plot(num_steps)"
   ]
  },
  {
   "cell_type": "code",
   "execution_count": null,
   "id": "37949cfd",
   "metadata": {},
   "outputs": [],
   "source": [
    "plt.plot(rewards, \"o\")"
   ]
  },
  {
   "cell_type": "code",
   "execution_count": null,
   "id": "2959ff17",
   "metadata": {},
   "outputs": [],
   "source": [
    "dqn_models = [DQN('MlpPolicy', env, verbose=(i==-1), batch_size = 64) \n",
    "              for i in range(n_simulations)]"
   ]
  },
  {
   "cell_type": "code",
   "execution_count": null,
   "id": "701ea636",
   "metadata": {},
   "outputs": [],
   "source": [
    "for i in tqdm(range(n_simulations)):\n",
    "    dqn_models[i].learn(total_timesteps=10**6)\n",
    "    timestamp = datetime.datetime.now().strftime(\"%Y%m%d%H%M%S%f\")\n",
    "    dqn_models[i].save('ignore_'+ str(i) + '_simulb64_'+timestamp)"
   ]
  },
  {
   "cell_type": "code",
   "execution_count": null,
   "id": "5d32f0d1",
   "metadata": {},
   "outputs": [],
   "source": [
    "rewards = []\n",
    "num_steps = []\n",
    "for i in tqdm(range(n_simulations)):\n",
    "    reward, num_step = ev.test_episodes(dqn_models[i], env, num_episodes=1000, max_steps = 50)\n",
    "    \n",
    "    num_steps.append(np.array(num_step))\n",
    "    rewards.append(np.array(reward))"
   ]
  },
  {
   "cell_type": "code",
   "execution_count": null,
   "id": "2be3b905",
   "metadata": {},
   "outputs": [],
   "source": [
    "for i in range(n_simulations):\n",
    "    plt.figure()\n",
    "    plt.plot(num_steps, \"o\")\n",
    "    plt.title(str(i))\n",
    "plt.show()"
   ]
  },
  {
   "cell_type": "code",
   "execution_count": null,
   "id": "8bc817bc",
   "metadata": {},
   "outputs": [],
   "source": [
    "plt.boxplot(num_steps.T, notch = True, showmeans = True, meanline = True)\n",
    "plt.savefig(\"figures/sim2_b64_test1.png\")"
   ]
  },
  {
   "cell_type": "code",
   "execution_count": null,
   "id": "b8d25338",
   "metadata": {},
   "outputs": [],
   "source": []
  },
  {
   "cell_type": "code",
   "execution_count": null,
   "id": "b318bc26",
   "metadata": {},
   "outputs": [],
   "source": []
  },
  {
   "cell_type": "code",
   "execution_count": null,
   "id": "a6242c63",
   "metadata": {},
   "outputs": [],
   "source": []
  },
  {
   "cell_type": "code",
   "execution_count": null,
   "id": "d54218f3",
   "metadata": {},
   "outputs": [],
   "source": []
  },
  {
   "cell_type": "code",
   "execution_count": null,
   "id": "b6e02f06",
   "metadata": {},
   "outputs": [],
   "source": []
  },
  {
   "cell_type": "code",
   "execution_count": null,
   "id": "edf06120",
   "metadata": {},
   "outputs": [],
   "source": []
  }
 ],
 "metadata": {
  "kernelspec": {
   "display_name": "Python 3",
   "language": "python",
   "name": "python3"
  },
  "language_info": {
   "codemirror_mode": {
    "name": "ipython",
    "version": 3
   },
   "file_extension": ".py",
   "mimetype": "text/x-python",
   "name": "python",
   "nbconvert_exporter": "python",
   "pygments_lexer": "ipython3",
   "version": "3.8.8"
  }
 },
 "nbformat": 4,
 "nbformat_minor": 5
}
