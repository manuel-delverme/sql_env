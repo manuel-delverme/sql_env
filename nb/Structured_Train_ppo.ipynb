{
 "cells": [
  {
   "cell_type": "code",
   "execution_count": 1,
   "id": "e125ce24",
   "metadata": {},
   "outputs": [],
   "source": [
    "import numpy as np\n",
    "import matplotlib.pyplot as plt\n",
    "from scipy.signal import savgol_filter as SGfilter\n",
    "from IPython.display import clear_output, display\n",
    "import datetime\n",
    "import joblib\n",
    "from tqdm import tqdm\n",
    "import sys\n",
    "sys.path.append(\"../\")\n",
    "import environment\n",
    "\n",
    "import gym\n",
    "from stable_baselines3.common.vec_env import DummyVecEnv\n",
    "from stable_baselines3 import PPO\n",
    "from stable_baselines3.common.monitor import Monitor\n",
    "from stable_baselines3.common.results_plotter import load_results, ts2xy\n",
    "from stable_baselines3.common import results_plotter"
   ]
  },
  {
   "cell_type": "code",
   "execution_count": 2,
   "id": "ef232b59",
   "metadata": {},
   "outputs": [],
   "source": [
    "n_simulations = 10\n",
    "n_episodes_training = 10**6\n",
    "n_episodes_test = 10**2\n",
    "log_dirs = [\"ignore_logs/\" + str(i) + \"/\" for i in range(n_simulations)]\n",
    "#n_steps = n_episodes_training//500"
   ]
  },
  {
   "cell_type": "code",
   "execution_count": 4,
   "id": "801e08da",
   "metadata": {},
   "outputs": [],
   "source": [
    "import pathlib\n",
    "for ldir in log_dirs:\n",
    "    pathlib.Path(ldir).mkdir(parents=True, exist_ok=True) "
   ]
  },
  {
   "cell_type": "code",
   "execution_count": 5,
   "id": "99cd860c",
   "metadata": {},
   "outputs": [],
   "source": [
    "envs = [Monitor(gym.make('SQLstruct-v1'), log_dirs[i]) for i in range(n_simulations)]"
   ]
  },
  {
   "cell_type": "code",
   "execution_count": 6,
   "id": "2959ff17",
   "metadata": {},
   "outputs": [],
   "source": [
    "ppo_models = [PPO('MlpPolicy', envs[i], verbose=(i==-1), batch_size = 64) \n",
    "              for i in range(n_simulations)]"
   ]
  },
  {
   "cell_type": "code",
   "execution_count": 7,
   "id": "701ea636",
   "metadata": {},
   "outputs": [
    {
     "name": "stderr",
     "output_type": "stream",
     "text": [
      "100%|██████████████████████████████████████████████████████████████████████████████| 10/10 [4:02:15<00:00, 1453.55s/it]\n"
     ]
    }
   ],
   "source": [
    "timestamp = datetime.datetime.now().strftime(\"%Y%m%d%H%M%S%f\")\n",
    "print(timestamp)\n",
    "for i in tqdm(range(n_simulations)):\n",
    "    ppo_models[i].learn(total_timesteps=n_episodes_training)\n",
    "    ppo_models[i].save('ignore_ppo_'+ str(i) + '_simulb64_'+timestamp)"
   ]
  }
 ],
 "metadata": {
  "kernelspec": {
   "display_name": "Python 3",
   "language": "python",
   "name": "python3"
  },
  "language_info": {
   "codemirror_mode": {
    "name": "ipython",
    "version": 3
   },
   "file_extension": ".py",
   "mimetype": "text/x-python",
   "name": "python",
   "nbconvert_exporter": "python",
   "pygments_lexer": "ipython3",
   "version": "3.8.8"
  }
 },
 "nbformat": 4,
 "nbformat_minor": 5
}
