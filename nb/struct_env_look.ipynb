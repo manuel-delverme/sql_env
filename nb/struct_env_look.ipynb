{
 "cells": [
  {
   "cell_type": "code",
   "execution_count": 1,
   "id": "726b3cae",
   "metadata": {},
   "outputs": [],
   "source": [
    "import numpy as np\n",
    "from IPython.display import clear_output, display\n",
    "from tqdm import tqdm\n",
    "import sys\n",
    "sys.path.append(\"../\")\n",
    "import environment\n",
    "import gym\n",
    "import structured.generate_actions as gen_acts\n",
    "import constants"
   ]
  },
  {
   "cell_type": "code",
   "execution_count": 2,
   "id": "2a12aff4",
   "metadata": {},
   "outputs": [],
   "source": [
    "env = gym.make('SQLstruct-v1')"
   ]
  },
  {
   "cell_type": "code",
   "execution_count": 3,
   "id": "2e6b09c2",
   "metadata": {},
   "outputs": [
    {
     "data": {
      "text/plain": [
       "array([1., 1., 1., 1., 1., 1., 1., 1., 1., 1., 1., 1., 1., 1., 1., 1., 1.,\n",
       "       1., 1., 1., 1., 1., 1., 1., 1.])"
      ]
     },
     "execution_count": 3,
     "metadata": {},
     "output_type": "execute_result"
    }
   ],
   "source": [
    "actions = env.structured_actions\n",
    "env.reset()"
   ]
  },
  {
   "cell_type": "code",
   "execution_count": 4,
   "id": "1c743896",
   "metadata": {},
   "outputs": [],
   "source": [
    "helper_list = [\"ERROR\", \"Untested\", \"blank\", \"somet\"]"
   ]
  },
  {
   "cell_type": "code",
   "execution_count": 5,
   "id": "ce325f06",
   "metadata": {},
   "outputs": [
    {
     "name": "stdout",
     "output_type": "stream",
     "text": [
      "SELECT id, username, firstname FROM users WHERE age={input}\n",
      "ERROR -1.0 |||| SELECT id, username, firstname FROM users WHERE age=\n",
      "ERROR -1.0 |||| SELECT id, username, firstname FROM users WHERE age=1' or 1=1 --\n",
      "ERROR -1.0 |||| SELECT id, username, firstname FROM users WHERE age=1' or 1=2 --\n",
      "ERROR -1.0 |||| SELECT id, username, firstname FROM users WHERE age=1' union select NULL --\n",
      "ERROR -1.0 |||| SELECT id, username, firstname FROM users WHERE age=1' union select NULL, NULL --\n",
      "ERROR -1.0 |||| SELECT id, username, firstname FROM users WHERE age=1' union select NULL, NULL, NULL --\n",
      "ERROR -1.0 |||| SELECT id, username, firstname FROM users WHERE age=1' union select account from private --\n",
      "ERROR -1.0 |||| SELECT id, username, firstname FROM users WHERE age=1' union select account, NULL from private --\n",
      "ERROR -1.0 |||| SELECT id, username, firstname FROM users WHERE age=1' union select account, NULL, NULL from private --\n",
      "ERROR -1.0 |||| SELECT id, username, firstname FROM users WHERE age=1\" or 1=1 --\n",
      "ERROR -1.0 |||| SELECT id, username, firstname FROM users WHERE age=1\" or 1=2 --\n",
      "ERROR -1.0 |||| SELECT id, username, firstname FROM users WHERE age=1\" union select NULL --\n",
      "ERROR -1.0 |||| SELECT id, username, firstname FROM users WHERE age=1\" union select NULL, NULL --\n",
      "ERROR -1.0 |||| SELECT id, username, firstname FROM users WHERE age=1\" union select NULL, NULL, NULL --\n",
      "ERROR -1.0 |||| SELECT id, username, firstname FROM users WHERE age=1\" union select account from private --\n",
      "ERROR -1.0 |||| SELECT id, username, firstname FROM users WHERE age=1\" union select account, NULL from private --\n",
      "ERROR -1.0 |||| SELECT id, username, firstname FROM users WHERE age=1\" union select account, NULL, NULL from private --\n",
      "somet -0.1 |||| SELECT id, username, firstname FROM users WHERE age=1 or 1=1 --\n",
      "blank -0.1 |||| SELECT id, username, firstname FROM users WHERE age=1 or 1=2 --\n",
      "ERROR -1.0 |||| SELECT id, username, firstname FROM users WHERE age=1 union select NULL --\n",
      "ERROR -1.0 |||| SELECT id, username, firstname FROM users WHERE age=1 union select NULL, NULL --\n",
      "somet -0.1 |||| SELECT id, username, firstname FROM users WHERE age=1 union select NULL, NULL, NULL --\n",
      "ERROR -1.0 |||| SELECT id, username, firstname FROM users WHERE age=1 union select account from private --\n",
      "ERROR -1.0 |||| SELECT id, username, firstname FROM users WHERE age=1 union select account, NULL from private --\n",
      "somet 100 |||| SELECT id, username, firstname FROM users WHERE age=1 union select account, NULL, NULL from private --\n"
     ]
    },
    {
     "data": {
      "text/plain": [
       "array([0., 0., 0., 0., 0., 0., 0., 0., 0., 0., 0., 0., 0., 0., 0., 0., 0.,\n",
       "       3., 2., 0., 0., 3., 0., 0., 3.])"
      ]
     },
     "execution_count": 5,
     "metadata": {},
     "output_type": "execute_result"
    }
   ],
   "source": [
    "print(env.hidden_query)\n",
    "counter = 0\n",
    "for action in actions:\n",
    "    #print(env.step(action)[1],\"||||\", env.hidden_query.format(input = action))\n",
    "    response = env.step(counter)\n",
    "    print(helper_list[int(response[0][counter])], response[1],\"||||\", env.hidden_query.format(input = action))\n",
    "    counter += 1\n",
    "env.state"
   ]
  },
  {
   "cell_type": "code",
   "execution_count": 6,
   "id": "4af409fa",
   "metadata": {},
   "outputs": [
    {
     "name": "stdout",
     "output_type": "stream",
     "text": [
      "SELECT id, username, firstname FROM users WHERE firstname='{input}'\n",
      "blank -0.1 |||| SELECT id, username, firstname FROM users WHERE firstname=''\n",
      "somet -0.1 |||| SELECT id, username, firstname FROM users WHERE firstname='1' or 1=1 --'\n",
      "blank -0.1 |||| SELECT id, username, firstname FROM users WHERE firstname='1' or 1=2 --'\n",
      "ERROR -1.0 |||| SELECT id, username, firstname FROM users WHERE firstname='1' union select NULL --'\n",
      "ERROR -1.0 |||| SELECT id, username, firstname FROM users WHERE firstname='1' union select NULL, NULL --'\n",
      "somet -0.1 |||| SELECT id, username, firstname FROM users WHERE firstname='1' union select NULL, NULL, NULL --'\n",
      "ERROR -1.0 |||| SELECT id, username, firstname FROM users WHERE firstname='1' union select account from private --'\n",
      "ERROR -1.0 |||| SELECT id, username, firstname FROM users WHERE firstname='1' union select account, NULL from private --'\n",
      "somet 100 |||| SELECT id, username, firstname FROM users WHERE firstname='1' union select account, NULL, NULL from private --'\n",
      "blank -0.1 |||| SELECT id, username, firstname FROM users WHERE firstname='1\" or 1=1 --'\n",
      "blank -0.1 |||| SELECT id, username, firstname FROM users WHERE firstname='1\" or 1=2 --'\n",
      "blank -0.1 |||| SELECT id, username, firstname FROM users WHERE firstname='1\" union select NULL --'\n",
      "blank -0.1 |||| SELECT id, username, firstname FROM users WHERE firstname='1\" union select NULL, NULL --'\n",
      "blank -0.1 |||| SELECT id, username, firstname FROM users WHERE firstname='1\" union select NULL, NULL, NULL --'\n",
      "blank -0.1 |||| SELECT id, username, firstname FROM users WHERE firstname='1\" union select account from private --'\n",
      "blank -0.1 |||| SELECT id, username, firstname FROM users WHERE firstname='1\" union select account, NULL from private --'\n",
      "blank -0.1 |||| SELECT id, username, firstname FROM users WHERE firstname='1\" union select account, NULL, NULL from private --'\n",
      "blank -0.1 |||| SELECT id, username, firstname FROM users WHERE firstname='1 or 1=1 --'\n",
      "blank -0.1 |||| SELECT id, username, firstname FROM users WHERE firstname='1 or 1=2 --'\n",
      "blank -0.1 |||| SELECT id, username, firstname FROM users WHERE firstname='1 union select NULL --'\n",
      "blank -0.1 |||| SELECT id, username, firstname FROM users WHERE firstname='1 union select NULL, NULL --'\n",
      "blank -0.1 |||| SELECT id, username, firstname FROM users WHERE firstname='1 union select NULL, NULL, NULL --'\n",
      "blank -0.1 |||| SELECT id, username, firstname FROM users WHERE firstname='1 union select account from private --'\n",
      "blank -0.1 |||| SELECT id, username, firstname FROM users WHERE firstname='1 union select account, NULL from private --'\n",
      "blank -0.1 |||| SELECT id, username, firstname FROM users WHERE firstname='1 union select account, NULL, NULL from private --'\n"
     ]
    },
    {
     "data": {
      "text/plain": [
       "array([2., 3., 2., 0., 0., 3., 0., 0., 3., 2., 2., 2., 2., 2., 2., 2., 2.,\n",
       "       2., 2., 2., 2., 2., 2., 2., 2.])"
      ]
     },
     "execution_count": 6,
     "metadata": {},
     "output_type": "execute_result"
    }
   ],
   "source": [
    "env.reset()\n",
    "print(env.hidden_query)\n",
    "counter = 0\n",
    "for action in actions:\n",
    "    #print(env.step(action)[1],\"||||\", env.hidden_query.format(input = action))\n",
    "    response = env.step(counter)\n",
    "    print(helper_list[int(response[0][counter])], response[1],\"||||\", env.hidden_query.format(input = action))\n",
    "    counter += 1\n",
    "env.state"
   ]
  },
  {
   "cell_type": "code",
   "execution_count": 7,
   "id": "b21f10d4",
   "metadata": {},
   "outputs": [
    {
     "name": "stdout",
     "output_type": "stream",
     "text": [
      "SELECT id FROM users WHERE nationality=\"{input}\"\n",
      "blank -0.1 |||| SELECT id FROM users WHERE nationality=\"\"\n",
      "blank -0.1 |||| SELECT id FROM users WHERE nationality=\"1' or 1=1 --\"\n",
      "blank -0.1 |||| SELECT id FROM users WHERE nationality=\"1' or 1=2 --\"\n",
      "blank -0.1 |||| SELECT id FROM users WHERE nationality=\"1' union select NULL --\"\n",
      "blank -0.1 |||| SELECT id FROM users WHERE nationality=\"1' union select NULL, NULL --\"\n",
      "blank -0.1 |||| SELECT id FROM users WHERE nationality=\"1' union select NULL, NULL, NULL --\"\n",
      "blank -0.1 |||| SELECT id FROM users WHERE nationality=\"1' union select account from private --\"\n",
      "blank -0.1 |||| SELECT id FROM users WHERE nationality=\"1' union select account, NULL from private --\"\n",
      "blank -0.1 |||| SELECT id FROM users WHERE nationality=\"1' union select account, NULL, NULL from private --\"\n",
      "somet -0.1 |||| SELECT id FROM users WHERE nationality=\"1\" or 1=1 --\"\n",
      "blank -0.1 |||| SELECT id FROM users WHERE nationality=\"1\" or 1=2 --\"\n",
      "somet -0.1 |||| SELECT id FROM users WHERE nationality=\"1\" union select NULL --\"\n",
      "ERROR -1.0 |||| SELECT id FROM users WHERE nationality=\"1\" union select NULL, NULL --\"\n",
      "ERROR -1.0 |||| SELECT id FROM users WHERE nationality=\"1\" union select NULL, NULL, NULL --\"\n",
      "somet 100 |||| SELECT id FROM users WHERE nationality=\"1\" union select account from private --\"\n",
      "ERROR -1.0 |||| SELECT id FROM users WHERE nationality=\"1\" union select account, NULL from private --\"\n",
      "ERROR -1.0 |||| SELECT id FROM users WHERE nationality=\"1\" union select account, NULL, NULL from private --\"\n",
      "blank -0.1 |||| SELECT id FROM users WHERE nationality=\"1 or 1=1 --\"\n",
      "blank -0.1 |||| SELECT id FROM users WHERE nationality=\"1 or 1=2 --\"\n",
      "blank -0.1 |||| SELECT id FROM users WHERE nationality=\"1 union select NULL --\"\n",
      "blank -0.1 |||| SELECT id FROM users WHERE nationality=\"1 union select NULL, NULL --\"\n",
      "blank -0.1 |||| SELECT id FROM users WHERE nationality=\"1 union select NULL, NULL, NULL --\"\n",
      "blank -0.1 |||| SELECT id FROM users WHERE nationality=\"1 union select account from private --\"\n",
      "blank -0.1 |||| SELECT id FROM users WHERE nationality=\"1 union select account, NULL from private --\"\n",
      "blank -0.1 |||| SELECT id FROM users WHERE nationality=\"1 union select account, NULL, NULL from private --\"\n"
     ]
    },
    {
     "data": {
      "text/plain": [
       "array([2., 2., 2., 2., 2., 2., 2., 2., 2., 3., 2., 3., 0., 0., 3., 0., 0.,\n",
       "       2., 2., 2., 2., 2., 2., 2., 2.])"
      ]
     },
     "execution_count": 7,
     "metadata": {},
     "output_type": "execute_result"
    }
   ],
   "source": [
    "env.reset()\n",
    "print(env.hidden_query)\n",
    "counter = 0\n",
    "for action in actions:\n",
    "    #print(env.step(action)[1],\"||||\", env.hidden_query.format(input = action))\n",
    "    response = env.step(counter)\n",
    "    print(helper_list[int(response[0][counter])], response[1],\"||||\", env.hidden_query.format(input = action))\n",
    "    counter += 1\n",
    "env.state"
   ]
  },
  {
   "cell_type": "code",
   "execution_count": null,
   "id": "7cc055f1",
   "metadata": {},
   "outputs": [],
   "source": []
  },
  {
   "cell_type": "code",
   "execution_count": null,
   "id": "f9d331e5",
   "metadata": {},
   "outputs": [],
   "source": []
  },
  {
   "cell_type": "code",
   "execution_count": null,
   "id": "26a972c7",
   "metadata": {},
   "outputs": [],
   "source": []
  },
  {
   "cell_type": "code",
   "execution_count": null,
   "id": "1f7ac21d",
   "metadata": {},
   "outputs": [],
   "source": []
  },
  {
   "cell_type": "code",
   "execution_count": null,
   "id": "bb3e18c4",
   "metadata": {},
   "outputs": [],
   "source": []
  },
  {
   "cell_type": "code",
   "execution_count": null,
   "id": "bddae226",
   "metadata": {},
   "outputs": [],
   "source": []
  },
  {
   "cell_type": "code",
   "execution_count": null,
   "id": "cfe5fee4",
   "metadata": {},
   "outputs": [],
   "source": []
  },
  {
   "cell_type": "code",
   "execution_count": null,
   "id": "6fc86248",
   "metadata": {},
   "outputs": [],
   "source": []
  },
  {
   "cell_type": "code",
   "execution_count": null,
   "id": "ab7abddf",
   "metadata": {},
   "outputs": [],
   "source": []
  },
  {
   "cell_type": "code",
   "execution_count": null,
   "id": "0bdceb54",
   "metadata": {},
   "outputs": [],
   "source": []
  },
  {
   "cell_type": "code",
   "execution_count": null,
   "id": "fa556916",
   "metadata": {},
   "outputs": [],
   "source": []
  }
 ],
 "metadata": {
  "kernelspec": {
   "display_name": "Python 3",
   "language": "python",
   "name": "python3"
  },
  "language_info": {
   "codemirror_mode": {
    "name": "ipython",
    "version": 3
   },
   "file_extension": ".py",
   "mimetype": "text/x-python",
   "name": "python",
   "nbconvert_exporter": "python",
   "pygments_lexer": "ipython3",
   "version": "3.8.8"
  }
 },
 "nbformat": 4,
 "nbformat_minor": 5
}
