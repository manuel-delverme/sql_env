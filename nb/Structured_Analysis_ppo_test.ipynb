{
 "cells": [
  {
   "cell_type": "code",
   "execution_count": 1,
   "id": "0939b712",
   "metadata": {},
   "outputs": [],
   "source": [
    "import numpy as np\n",
    "import matplotlib.pyplot as plt\n",
    "from scipy.signal import savgol_filter as SGfilter\n",
    "from IPython.display import clear_output, display\n",
    "import datetime\n",
    "import joblib\n",
    "from tqdm import tqdm\n",
    "import sys\n",
    "sys.path.append(\"../\")\n",
    "import constants\n",
    "import environment\n",
    "\n",
    "\n",
    "import gym\n",
    "from stable_baselines3.common.vec_env import DummyVecEnv\n",
    "from stable_baselines3 import PPO\n",
    "import evaluate_models as ev\n"
   ]
  },
  {
   "cell_type": "code",
   "execution_count": 2,
   "id": "6aa852ac",
   "metadata": {},
   "outputs": [],
   "source": [
    "n_simulations = 10\n",
    "n_episodes_training = 10**6\n",
    "n_episodes_test = 10**3"
   ]
  },
  {
   "cell_type": "code",
   "execution_count": 3,
   "id": "e9b68283",
   "metadata": {},
   "outputs": [],
   "source": [
    "env = gym.make('SQLstruct-v1')\n",
    "folder = \"\"\n",
    "retest = False"
   ]
  },
  {
   "cell_type": "code",
   "execution_count": 6,
   "id": "5b207a93",
   "metadata": {},
   "outputs": [
    {
     "name": "stdout",
     "output_type": "stream",
     "text": [
      "0\n",
      "ignore_ppo_0_simulb64_20210615105645615748:<stable_baselines3.ppo.ppo.PPO object at 0x0000019B7FECD850>\n",
      "1\n",
      "ignore_ppo_1_simulb64_20210615112104435426:<stable_baselines3.ppo.ppo.PPO object at 0x0000019B7FFE0910>\n",
      "2\n",
      "ignore_ppo_2_simulb64_20210615114500981881:<stable_baselines3.ppo.ppo.PPO object at 0x0000019B7FFE0DC0>\n",
      "3\n",
      "ignore_ppo_3_simulb64_20210615120923062860:<stable_baselines3.ppo.ppo.PPO object at 0x0000019B7FFE0FD0>\n",
      "4\n",
      "ignore_ppo_4_simulb64_20210615123332822156:<stable_baselines3.ppo.ppo.PPO object at 0x0000019B7FF2FC10>\n",
      "5\n",
      "ignore_ppo_5_simulb64_20210615125732147145:<stable_baselines3.ppo.ppo.PPO object at 0x0000019B01050970>\n",
      "6\n",
      "ignore_ppo_6_simulb64_20210615132218883348:<stable_baselines3.ppo.ppo.PPO object at 0x0000019B01050F70>\n",
      "7\n",
      "ignore_ppo_7_simulb64_20210615134616892697:<stable_baselines3.ppo.ppo.PPO object at 0x0000019B7FF63AF0>\n",
      "8\n",
      "ignore_ppo_8_simulb64_20210615141047169225:<stable_baselines3.ppo.ppo.PPO object at 0x0000019B7FF639A0>\n",
      "9\n",
      "ignore_ppo_9_simulb64_20210615143509517574:<stable_baselines3.ppo.ppo.PPO object at 0x0000019B7FF63EB0>\n"
     ]
    }
   ],
   "source": [
    "ppo_models = []\n",
    "import glob\n",
    "for i in range(n_simulations):\n",
    "    print(i)\n",
    "    for file in glob.glob(folder + \"ignore_ppo_\"+ str(i) +\"_simulb64*.zip\"):\n",
    "        print(file[:-4], end = \":\")\n",
    "        model = PPO.load(file[:-4])\n",
    "        ppo_models.append(model)\n",
    "        print(model)"
   ]
  },
  {
   "cell_type": "code",
   "execution_count": 7,
   "id": "a5aaa090",
   "metadata": {},
   "outputs": [],
   "source": [
    "if(retest):\n",
    "    rewards = []\n",
    "    num_steps = []\n",
    "    successes = []\n",
    "    for i in tqdm(range(n_simulations)):\n",
    "        out_rewards, out_num_steps, out_successes, out_successes2 = ev.test_episodes(ppo_models[i], env, num_episodes=1000)\n",
    "        \n",
    "        rewards.append(out_rewards)\n",
    "        num_steps.append(out_num_steps)\n",
    "        successes.append(np.mean(out_successes))\n",
    "    \n",
    "    rewards = np.array(rewards)\n",
    "    num_steps = np.array(num_steps)\n",
    "    successes = np.array(successes)"
   ]
  },
  {
   "cell_type": "code",
   "execution_count": 8,
   "id": "c4294f9f",
   "metadata": {},
   "outputs": [],
   "source": [
    "if(retest):\n",
    "    timestamp = datetime.datetime.now().strftime(\"%Y%m%d%H%M%S%f\")\n",
    "    np.savetxt(\"ignore_struct_b64_num_steps\"+timestamp+\".csv\", num_steps)\n",
    "    np.savetxt(\"ignore_struct_b64_num_steps.csv\", num_steps)\n",
    "    np.savetxt(\"ignore_struct_b64_rewards\"+timestamp+\".csv\", rewards)\n",
    "    np.savetxt(\"ignore_struct_b64_rewards.csv\", rewards)\n",
    "    np.savetxt(\"ignore_struct_b64_successes.csv\", successes2)\n",
    "    retest = False\n",
    "else:\n",
    "    num_steps = np.loadtxt(\"ignore_struct_b64_num_steps.csv\")\n",
    "    rewards = np.loadtxt(\"ignore_struct_b64_rewards.csv\")\n",
    "    successes = np.loadtxt(\"ignore_struct_b64_successes.csv\")\n",
    "    \n",
    "    "
   ]
  },
  {
   "cell_type": "code",
   "execution_count": 15,
   "id": "827ba548",
   "metadata": {},
   "outputs": [
    {
     "data": {
      "image/png": "[encoded data removed]",
      "text/plain": [
       "<Figure size 432x288 with 1 Axes>"
      ]
     },
     "metadata": {
      "needs_background": "light"
     },
     "output_type": "display_data"
    }
   ],
   "source": [
    "plt.boxplot(num_steps.T, notch = True, showmeans = True, meanline = True)\n",
    "plt.savefig(\"figures/number_of_queries_per_episode_of_the_10_different_ppo_agents.png\")"
   ]
  },
  {
   "cell_type": "code",
   "execution_count": 16,
   "id": "a677bcf3",
   "metadata": {},
   "outputs": [
    {
     "data": {
      "image/png": "[encoded data removed]",
      "text/plain": [
       "<Figure size 432x288 with 1 Axes>"
      ]
     },
     "metadata": {
      "needs_background": "light"
     },
     "output_type": "display_data"
    }
   ],
   "source": [
    "plt.boxplot(rewards.T, notch = True, showmeans = True, meanline = True)\n",
    "plt.savefig(\"figures/rewards_for_the_10_different_ppo_agents.png\")"
   ]
  },
  {
   "cell_type": "code",
   "execution_count": 12,
   "id": "b92d7987",
   "metadata": {},
   "outputs": [
    {
     "name": "stdout",
     "output_type": "stream",
     "text": [
      "[1. 1. 1. 1. 1. 1. 1. 1. 1. 1.]\n"
     ]
    },
    {
     "data": {
      "image/png": "[encoded data removed]",
      "text/plain": [
       "<Figure size 432x288 with 1 Axes>"
      ]
     },
     "metadata": {
      "needs_background": "light"
     },
     "output_type": "display_data"
    }
   ],
   "source": [
    "plt.plot(successes, \"o\")\n",
    "print(successes)"
   ]
  },
  {
   "cell_type": "code",
   "execution_count": 16,
   "id": "c4557994",
   "metadata": {},
   "outputs": [
    {
     "name": "stdout",
     "output_type": "stream",
     "text": [
      "16 1\" union select account, NULL, NULL from private --:1 3\n",
      "steps 1 reward 1\n"
     ]
    }
   ],
   "source": [
    "#Lets look at some of the simulations:\n",
    "ev.look_at_an_episode(ppo_models[0], env)"
   ]
  },
  {
   "cell_type": "code",
   "execution_count": 17,
   "id": "509a9b9b",
   "metadata": {},
   "outputs": [
    {
     "name": "stdout",
     "output_type": "stream",
     "text": [
      "16 1\" union select account, NULL, NULL from private --:-0.01 2\n",
      "6 1' union select account from private --:-0.01 0\n",
      "7 1' union select account, NULL from private --:1 3\n",
      "steps 3 reward 0.98\n"
     ]
    }
   ],
   "source": [
    "ev.look_at_an_episode(ppo_models[0], env)"
   ]
  },
  {
   "cell_type": "code",
   "execution_count": 19,
   "id": "655a50e4",
   "metadata": {},
   "outputs": [
    {
     "name": "stdout",
     "output_type": "stream",
     "text": [
      "16 1\" union select account, NULL, NULL from private --:-0.01 0\n",
      "22 1 union select account from private --:-0.01 0\n",
      "23 1 union select account, NULL from private --:-0.01 0\n",
      "24 1 union select account, NULL, NULL from private --:1 3\n",
      "steps 4 reward 0.97\n"
     ]
    }
   ],
   "source": [
    "ev.look_at_an_episode(ppo_models[0], env)"
   ]
  },
  {
   "cell_type": "code",
   "execution_count": 20,
   "id": "be2cc3a7",
   "metadata": {},
   "outputs": [
    {
     "name": "stdout",
     "output_type": "stream",
     "text": [
      "15 1\" union select account, NULL from private --:1 3\n",
      "steps 1 reward 1\n"
     ]
    }
   ],
   "source": [
    "ev.look_at_an_episode(ppo_models[1], env)"
   ]
  },
  {
   "cell_type": "code",
   "execution_count": 21,
   "id": "3c8ddced",
   "metadata": {},
   "outputs": [
    {
     "name": "stdout",
     "output_type": "stream",
     "text": [
      "14 1\" union select account from private --:-0.01 2\n",
      "6 1' union select account from private --:-0.01 0\n",
      "8 1' union select account, NULL, NULL from private --:-0.01 0\n",
      "7 1' union select account, NULL from private --:1 3\n",
      "steps 4 reward 0.97\n"
     ]
    }
   ],
   "source": [
    "ev.look_at_an_episode(ppo_models[2], env)"
   ]
  },
  {
   "cell_type": "code",
   "execution_count": null,
   "id": "0fd1365f",
   "metadata": {},
   "outputs": [],
   "source": []
  }
 ],
 "metadata": {
  "kernelspec": {
   "display_name": "Python 3",
   "language": "python",
   "name": "python3"
  },
  "language_info": {
   "codemirror_mode": {
    "name": "ipython",
    "version": 3
   },
   "file_extension": ".py",
   "mimetype": "text/x-python",
   "name": "python",
   "nbconvert_exporter": "python",
   "pygments_lexer": "ipython3",
   "version": "3.8.8"
  }
 },
 "nbformat": 4,
 "nbformat_minor": 5
}
