{
 "cells": [
  {
   "cell_type": "code",
   "execution_count": 1,
   "id": "0939b712",
   "metadata": {},
   "outputs": [],
   "source": [
    "import numpy as np\n",
    "import matplotlib.pyplot as plt\n",
    "from scipy.signal import savgol_filter as SGfilter\n",
    "from IPython.display import clear_output, display\n",
    "import datetime\n",
    "import joblib\n",
    "from tqdm import tqdm\n",
    "import sys\n",
    "sys.path.append(\"../\")\n",
    "import constants\n",
    "import environment\n",
    "\n",
    "\n",
    "import gym\n",
    "from stable_baselines3.common.vec_env import DummyVecEnv\n",
    "from stable_baselines3 import DQN\n",
    "import evaluate_models as ev\n"
   ]
  },
  {
   "cell_type": "code",
   "execution_count": 2,
   "id": "6aa852ac",
   "metadata": {},
   "outputs": [],
   "source": [
    "n_simulations = 10\n",
    "n_episodes_training = 10**6\n",
    "n_episodes_test = 10**3"
   ]
  },
  {
   "cell_type": "code",
   "execution_count": 3,
   "id": "e9b68283",
   "metadata": {},
   "outputs": [],
   "source": [
    "env = gym.make('SQLstruct-v1')\n",
    "folder = \"../\"\n",
    "retest = True"
   ]
  },
  {
   "cell_type": "code",
   "execution_count": 4,
   "id": "5b207a93",
   "metadata": {},
   "outputs": [
    {
     "name": "stdout",
     "output_type": "stream",
     "text": [
      "..\\ignore_0_simulb64_20210611150812761734:<stable_baselines3.dqn.dqn.DQN object at 0x00000254EF14FB80>\n",
      "..\\ignore_1_simulb64_20210611153232537266:<stable_baselines3.dqn.dqn.DQN object at 0x00000254E7F14970>\n",
      "..\\ignore_2_simulb64_20210611155613999393:<stable_baselines3.dqn.dqn.DQN object at 0x00000254EF194BE0>\n",
      "..\\ignore_3_simulb64_20210611161958942685:<stable_baselines3.dqn.dqn.DQN object at 0x00000254EF194970>\n",
      "..\\ignore_4_simulb64_20210611164338006699:<stable_baselines3.dqn.dqn.DQN object at 0x00000254EF194A60>\n",
      "..\\ignore_5_simulb64_20210611170737938320:<stable_baselines3.dqn.dqn.DQN object at 0x00000254FC005F70>\n",
      "..\\ignore_6_simulb64_20210611175545526757:<stable_baselines3.dqn.dqn.DQN object at 0x00000254FC005D00>\n",
      "..\\ignore_7_simulb64_20210611173140429127:<stable_baselines3.dqn.dqn.DQN object at 0x000002550BCD0C40>\n",
      "..\\ignore_8_simulb64_20210611182004612175:<stable_baselines3.dqn.dqn.DQN object at 0x000002550BCD09D0>\n",
      "..\\ignore_9_simulb64_20210611184427157325:<stable_baselines3.dqn.dqn.DQN object at 0x000002550BCFE940>\n"
     ]
    }
   ],
   "source": [
    "dqn_models = []\n",
    "import glob\n",
    "for i in range(n_simulations):\n",
    "    for file in glob.glob(folder + \"ignore_\"+ str(i) +\"_simulb64*.zip\"):\n",
    "        print(file[:-4], end = \":\")\n",
    "        model = DQN.load(file[:-4])\n",
    "        dqn_models.append(model)\n",
    "        print(model)"
   ]
  },
  {
   "cell_type": "code",
   "execution_count": 5,
   "id": "a5aaa090",
   "metadata": {},
   "outputs": [
    {
     "name": "stderr",
     "output_type": "stream",
     "text": [
      "100%|██████████████████████████████████████████████████████████████████████████████████| 10/10 [03:41<00:00, 22.17s/it]\n"
     ]
    }
   ],
   "source": [
    "if(retest):\n",
    "    rewards = []\n",
    "    num_steps = []\n",
    "    successes = []\n",
    "    successes2 = []\n",
    "    for i in tqdm(range(n_simulations)):\n",
    "        out_rewards, out_num_steps, out_successes, out_successes2 = ev.test_episodes(dqn_models[i], env, num_episodes=1000)\n",
    "        \n",
    "        rewards.append(out_rewards)\n",
    "        num_steps.append(out_num_steps)\n",
    "        successes.append(np.mean(out_successes))\n",
    "        successes2.append(np.mean(out_successes2))\n",
    "    \n",
    "    rewards = np.array(rewards)\n",
    "    num_steps = np.array(num_steps)\n",
    "    successes = np.array(successes)\n",
    "    successes2 = np.array(successes2)"
   ]
  },
  {
   "cell_type": "code",
   "execution_count": 6,
   "id": "c4294f9f",
   "metadata": {},
   "outputs": [],
   "source": [
    "if(retest):\n",
    "    timestamp = datetime.datetime.now().strftime(\"%Y%m%d%H%M%S%f\")\n",
    "    np.savetxt(\"ignore_struct_b64_num_steps\"+timestamp+\".csv\", num_steps)\n",
    "    np.savetxt(\"ignore_struct_b64_num_steps.csv\", num_steps)\n",
    "    np.savetxt(\"ignore_struct_b64_rewards\"+timestamp+\".csv\", rewards)\n",
    "    np.savetxt(\"ignore_struct_b64_rewards.csv\", rewards)\n",
    "    np.savetxt(\"ignore_struct_b64_successes.csv\", rewards)\n",
    "    retest = False\n",
    "else:\n",
    "    num_steps = np.loadtxt(\"ignore_struct_b64_num_steps.csv\")\n",
    "    rewards = np.loadtxt(\"ignore_struct_b64_rewards.csv\")\n",
    "    successes = np.loadtxt(\"ignore_struct_b64_successes\")\n",
    "    "
   ]
  },
  {
   "cell_type": "code",
   "execution_count": 7,
   "id": "827ba548",
   "metadata": {},
   "outputs": [
    {
     "data": {
      "image/png": "[encoded data removed]",
      "text/plain": [
       "<Figure size 432x288 with 1 Axes>"
      ]
     },
     "metadata": {
      "needs_background": "light"
     },
     "output_type": "display_data"
    }
   ],
   "source": [
    "plt.boxplot(num_steps.T, notch = True, showmeans = True, meanline = True)\n",
    "plt.savefig(\"figures/sim2_b64_test.png\")"
   ]
  },
  {
   "cell_type": "code",
   "execution_count": 8,
   "id": "a677bcf3",
   "metadata": {},
   "outputs": [
    {
     "data": {
      "image/png": "[encoded data removed]",
      "text/plain": [
       "<Figure size 432x288 with 1 Axes>"
      ]
     },
     "metadata": {
      "needs_background": "light"
     },
     "output_type": "display_data"
    }
   ],
   "source": [
    "plt.boxplot(rewards.T, notch = True, showmeans = True, meanline = True)\n",
    "plt.savefig(\"figures/sim2_b64_test_reward.png\")"
   ]
  },
  {
   "cell_type": "code",
   "execution_count": 10,
   "id": "b92d7987",
   "metadata": {},
   "outputs": [
    {
     "name": "stdout",
     "output_type": "stream",
     "text": [
      "[0.538 1.    0.632 0.439 0.759 0.667 1.    0.791 0.667 0.676]\n"
     ]
    },
    {
     "data": {
      "image/png": "[encoded data removed]",
      "text/plain": [
       "<Figure size 432x288 with 1 Axes>"
      ]
     },
     "metadata": {
      "needs_background": "light"
     },
     "output_type": "display_data"
    }
   ],
   "source": [
    "plt.plot(successes2, \"o\")\n",
    "print(successes2)"
   ]
  },
  {
   "cell_type": "code",
   "execution_count": null,
   "id": "c4557994",
   "metadata": {},
   "outputs": [],
   "source": []
  }
 ],
 "metadata": {
  "kernelspec": {
   "display_name": "Python 3",
   "language": "python",
   "name": "python3"
  },
  "language_info": {
   "codemirror_mode": {
    "name": "ipython",
    "version": 3
   },
   "file_extension": ".py",
   "mimetype": "text/x-python",
   "name": "python",
   "nbconvert_exporter": "python",
   "pygments_lexer": "ipython3",
   "version": "3.8.8"
  }
 },
 "nbformat": 4,
 "nbformat_minor": 5
}
